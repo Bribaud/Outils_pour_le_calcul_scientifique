{
 "cells": [
  {
   "cell_type": "markdown",
   "id": "2a8da7a9-e96c-47ae-a2b9-75bcf733a810",
   "metadata": {},
   "source": [
    "** Evercice 1"
   ]
  },
  {
   "cell_type": "code",
   "execution_count": 2,
   "id": "836d60ec-0668-46a0-a09a-7243a8ef64f2",
   "metadata": {
    "tags": []
   },
   "outputs": [
    {
     "name": "stdout",
     "output_type": "stream",
     "text": [
      "\n",
      "ans =\n",
      "\n",
      "    11\n",
      "\n"
     ]
    }
   ],
   "source": [
    "6+5"
   ]
  },
  {
   "cell_type": "code",
   "execution_count": 3,
   "id": "385ca467-7ea2-4113-a0e5-db8e660ad291",
   "metadata": {
    "tags": []
   },
   "outputs": [
    {
     "name": "stdout",
     "output_type": "stream",
     "text": [
      "\n",
      "ans =\n",
      "\n",
      "   1.0758e+03\n",
      "\n"
     ]
    }
   ],
   "source": [
    "45.78*23.5"
   ]
  },
  {
   "cell_type": "code",
   "execution_count": 4,
   "id": "8e223f28-5992-4b11-b340-7c8b2e7a534d",
   "metadata": {
    "tags": []
   },
   "outputs": [
    {
     "name": "stdout",
     "output_type": "stream",
     "text": [
      "\n",
      "ans =\n",
      "\n",
      "        1024\n",
      "\n"
     ]
    }
   ],
   "source": [
    "4^5"
   ]
  },
  {
   "cell_type": "code",
   "execution_count": 5,
   "id": "a4aeeaec-94c0-4f93-8a01-427b60ed1ea6",
   "metadata": {
    "tags": []
   },
   "outputs": [
    {
     "name": "stdout",
     "output_type": "stream",
     "text": [
      "\n",
      "ans =\n",
      "\n",
      "    0.3333\n",
      "\n"
     ]
    }
   ],
   "source": [
    "1/3"
   ]
  },
  {
   "cell_type": "code",
   "execution_count": 6,
   "id": "aed6c9ad-9bf9-4bdc-bb96-875a52ee3f23",
   "metadata": {
    "tags": []
   },
   "outputs": [],
   "source": [
    "format long"
   ]
  },
  {
   "cell_type": "code",
   "execution_count": 7,
   "id": "8b60bf8b-3d7e-4622-abcb-d6a4bb0d7151",
   "metadata": {
    "tags": []
   },
   "outputs": [
    {
     "name": "stdout",
     "output_type": "stream",
     "text": [
      "\n",
      "ans =\n",
      "\n",
      "   0.333333333333333\n",
      "\n"
     ]
    }
   ],
   "source": [
    "1/3"
   ]
  },
  {
   "cell_type": "code",
   "execution_count": 8,
   "id": "b53912d6-4046-4cd2-8285-6ea787c8e40f",
   "metadata": {
    "tags": []
   },
   "outputs": [],
   "source": [
    "format short"
   ]
  },
  {
   "cell_type": "code",
   "execution_count": 9,
   "id": "0dea3a29-6099-4471-9cdc-aa40b485ae12",
   "metadata": {
    "tags": []
   },
   "outputs": [
    {
     "name": "stdout",
     "output_type": "stream",
     "text": [
      "\n",
      "ans =\n",
      "\n",
      "    0.3333\n",
      "\n"
     ]
    }
   ],
   "source": [
    "1/3"
   ]
  },
  {
   "cell_type": "markdown",
   "id": "82baf34a-2e57-4c43-a1f8-02b4169ef58c",
   "metadata": {},
   "source": [
    "Exercice 2"
   ]
  },
  {
   "cell_type": "code",
   "execution_count": 10,
   "id": "6b8b27b9-2928-4f26-b759-42ad31d22e8e",
   "metadata": {
    "tags": []
   },
   "outputs": [
    {
     "name": "stdout",
     "output_type": "stream",
     "text": [
      "\n",
      "ans =\n",
      "\n",
      "    0.6442\n",
      "\n"
     ]
    }
   ],
   "source": [
    "sin(0.7)"
   ]
  },
  {
   "cell_type": "code",
   "execution_count": 11,
   "id": "76b60177-0566-4441-99ec-dfb4f850f656",
   "metadata": {
    "tags": []
   },
   "outputs": [
    {
     "name": "stdout",
     "output_type": "stream",
     "text": [
      "\n",
      "ans =\n",
      "\n",
      "    0.7071\n",
      "\n"
     ]
    }
   ],
   "source": [
    "sind(45)"
   ]
  },
  {
   "cell_type": "code",
   "execution_count": 12,
   "id": "21167be6-2d32-434d-bf7f-b82171e0a5f7",
   "metadata": {
    "tags": []
   },
   "outputs": [
    {
     "name": "stdout",
     "output_type": "stream",
     "text": [
      " SIND   Sine of argument in degrees.\n",
      "    SIND(X) is the sine of the elements of X, expressed in degrees.\n",
      "    For integers n, sind(n*180) is exactly zero, whereas sin(n*pi)\n",
      "    reflects the accuracy of the floating point value of pi.\n",
      " \n",
      "    Class support for input X:\n",
      "       float: double, single\n",
      " \n",
      "    See also ASIND, SIN.\n",
      "\n",
      "    Documentation for sind\n",
      "       doc sind\n",
      "\n",
      "    Other uses of sind\n",
      "\n",
      "       sym/sind\n",
      "\n"
     ]
    }
   ],
   "source": [
    "help sind"
   ]
  },
  {
   "cell_type": "code",
   "execution_count": 13,
   "id": "422c0398-ed9c-4aa8-bc86-f0ff15c0d6f6",
   "metadata": {
    "tags": []
   },
   "outputs": [
    {
     "name": "stdout",
     "output_type": "stream",
     "text": [
      "\n",
      "ans =\n",
      "\n",
      "    0.5236\n",
      "\n"
     ]
    }
   ],
   "source": [
    "asin(0.5)"
   ]
  },
  {
   "cell_type": "code",
   "execution_count": 14,
   "id": "c304581c-ca24-465e-a7e8-b94797b64440",
   "metadata": {
    "tags": []
   },
   "outputs": [
    {
     "name": "stdout",
     "output_type": "stream",
     "text": [
      "\n",
      "ans =\n",
      "\n",
      "   30.0000\n",
      "\n"
     ]
    }
   ],
   "source": [
    "asind(0.5)"
   ]
  },
  {
   "cell_type": "code",
   "execution_count": 15,
   "id": "f7ff6131-b601-4a88-b0ce-61f77734fc8e",
   "metadata": {
    "tags": []
   },
   "outputs": [
    {
     "name": "stdout",
     "output_type": "stream",
     "text": [
      "\n",
      "ans =\n",
      "\n",
      "    1.7321\n",
      "\n"
     ]
    }
   ],
   "source": [
    "sqrt(3)"
   ]
  },
  {
   "cell_type": "code",
   "execution_count": 16,
   "id": "28dde043-1d37-40d2-a72e-598120d12063",
   "metadata": {
    "tags": []
   },
   "outputs": [
    {
     "name": "stdout",
     "output_type": "stream",
     "text": [
      "\n",
      "ans =\n",
      "\n",
      "    3.0002\n",
      "\n"
     ]
    }
   ],
   "source": [
    "1.7321^2"
   ]
  },
  {
   "cell_type": "code",
   "execution_count": 17,
   "id": "e5953187-6fa3-4196-95dd-42b111d31b7b",
   "metadata": {
    "tags": []
   },
   "outputs": [
    {
     "name": "stdout",
     "output_type": "stream",
     "text": [
      "\n",
      "ans =\n",
      "\n",
      "    1.7321\n",
      "\n"
     ]
    }
   ],
   "source": [
    "sqrt(3)"
   ]
  },
  {
   "cell_type": "code",
   "execution_count": 18,
   "id": "d0f5b0fc-c22b-4aed-b60f-8b3c4ff0c906",
   "metadata": {
    "tags": []
   },
   "outputs": [
    {
     "name": "stdout",
     "output_type": "stream",
     "text": [
      "\n",
      "ans =\n",
      "\n",
      "    1.7321\n",
      "\n"
     ]
    }
   ],
   "source": [
    "ans"
   ]
  },
  {
   "cell_type": "code",
   "execution_count": 19,
   "id": "96330c11-9fa1-4c70-9c61-c4b4632230ba",
   "metadata": {
    "tags": []
   },
   "outputs": [
    {
     "name": "stdout",
     "output_type": "stream",
     "text": [
      "\n",
      "ans =\n",
      "\n",
      "    3.0000\n",
      "\n"
     ]
    }
   ],
   "source": [
    "ans^2"
   ]
  },
  {
   "cell_type": "code",
   "execution_count": 20,
   "id": "d6c113a1-6123-4e70-894f-98656dfe7c5b",
   "metadata": {
    "tags": []
   },
   "outputs": [
    {
     "name": "stdout",
     "output_type": "stream",
     "text": [
      "\n",
      "ans =\n",
      "\n",
      "   -0.7071\n",
      "\n",
      "\n",
      "ans =\n",
      "\n",
      "    1.7228\n",
      "\n",
      "\n",
      "ans =\n",
      "\n",
      "    9.9742\n",
      "\n",
      "\n",
      "ans =\n",
      "\n",
      "    1.0000\n",
      "\n"
     ]
    }
   ],
   "source": [
    "cos(3/4*pi),log(5.6),exp(2.3),tan(pi/4)"
   ]
  },
  {
   "cell_type": "code",
   "execution_count": 21,
   "id": "2a2663f3-7cb8-4109-ac00-83955cb0a691",
   "metadata": {
    "tags": []
   },
   "outputs": [
    {
     "name": "stdout",
     "output_type": "stream",
     "text": [
      "\n",
      "ans =\n",
      "\n",
      "   -0.7071\n",
      "\n",
      "\n",
      "ans =\n",
      "\n",
      "    9.9742\n",
      "\n"
     ]
    }
   ],
   "source": [
    "cos(3/4*pi),log(5.6);exp(2.3),tan(pi/4);"
   ]
  },
  {
   "cell_type": "markdown",
   "id": "8ac4fb12-41e8-461e-90fb-44f5ae2e69b5",
   "metadata": {},
   "source": [
    "EXERCICE 3"
   ]
  },
  {
   "cell_type": "code",
   "execution_count": 22,
   "id": "d0bdf316-6d76-46a8-99cc-1ca276c16348",
   "metadata": {
    "tags": []
   },
   "outputs": [
    {
     "name": "stdout",
     "output_type": "stream",
     "text": [
      "\n",
      "c =\n",
      "\n",
      "     6\n",
      "\n"
     ]
    }
   ],
   "source": [
    "c=6"
   ]
  },
  {
   "cell_type": "code",
   "execution_count": 23,
   "id": "833c8de6-7a81-4367-8ef4-b8f3826e3a4f",
   "metadata": {
    "tags": []
   },
   "outputs": [
    {
     "name": "stdout",
     "output_type": "stream",
     "text": [
      "\n",
      "ans =\n",
      "\n",
      "  logical\n",
      "\n",
      "   0\n",
      "\n"
     ]
    }
   ],
   "source": [
    "c==3"
   ]
  },
  {
   "cell_type": "code",
   "execution_count": 24,
   "id": "452ed994-0922-4991-9540-1529193207a6",
   "metadata": {
    "tags": []
   },
   "outputs": [
    {
     "name": "stdout",
     "output_type": "stream",
     "text": [
      "\n",
      "ans =\n",
      "\n",
      "  logical\n",
      "\n",
      "   1\n",
      "\n"
     ]
    }
   ],
   "source": [
    "c>3"
   ]
  },
  {
   "cell_type": "code",
   "execution_count": 25,
   "id": "77498571-bfc5-4fbd-91af-4422b6f83b60",
   "metadata": {
    "tags": []
   },
   "outputs": [
    {
     "name": "stdout",
     "output_type": "stream",
     "text": [
      "\n",
      "ans =\n",
      "\n",
      "  logical\n",
      "\n",
      "   0\n",
      "\n"
     ]
    }
   ],
   "source": [
    "c<4"
   ]
  },
  {
   "cell_type": "code",
   "execution_count": 26,
   "id": "1067d901-69e1-41f0-b779-b4f108b06ec9",
   "metadata": {
    "tags": []
   },
   "outputs": [
    {
     "name": "stdout",
     "output_type": "stream",
     "text": [
      "\n",
      "ans =\n",
      "\n",
      "  logical\n",
      "\n",
      "   1\n",
      "\n"
     ]
    }
   ],
   "source": [
    "~(c<4)"
   ]
  },
  {
   "cell_type": "code",
   "execution_count": 27,
   "id": "8363993b-927f-4cf4-8551-d988d65cadb5",
   "metadata": {
    "tags": []
   },
   "outputs": [
    {
     "name": "stdout",
     "output_type": "stream",
     "text": [
      "\n",
      "ans =\n",
      "\n",
      "  logical\n",
      "\n",
      "   0\n",
      "\n"
     ]
    }
   ],
   "source": [
    "(c>3)&(c<4)"
   ]
  },
  {
   "cell_type": "code",
   "execution_count": 28,
   "id": "f4343e76-0863-4a03-8e6c-36802df4e0aa",
   "metadata": {
    "tags": []
   },
   "outputs": [
    {
     "name": "stdout",
     "output_type": "stream",
     "text": [
      "\n",
      "ans =\n",
      "\n",
      "  logical\n",
      "\n",
      "   1\n",
      "\n"
     ]
    }
   ],
   "source": [
    "(c>3)&(c<8)"
   ]
  },
  {
   "cell_type": "code",
   "execution_count": 29,
   "id": "3d073ac7-5fa9-41ac-9cc6-102857d6afcd",
   "metadata": {
    "tags": []
   },
   "outputs": [
    {
     "name": "stdout",
     "output_type": "stream",
     "text": [
      "\n",
      "ans =\n",
      "\n",
      "  logical\n",
      "\n",
      "   1\n",
      "\n"
     ]
    }
   ],
   "source": [
    "(c>3)|(c<4)"
   ]
  },
  {
   "cell_type": "markdown",
   "id": "c7ee284d-61bb-41f6-9e62-1249f4c60730",
   "metadata": {},
   "source": [
    "EXERCICE 4"
   ]
  },
  {
   "cell_type": "code",
   "execution_count": 30,
   "id": "d3859c32-7cfa-4e4c-b79e-46fe83317fcf",
   "metadata": {
    "tags": []
   },
   "outputs": [
    {
     "name": "stdout",
     "output_type": "stream",
     "text": [
      "\n",
      "ans =\n",
      "\n",
      "   1.0000 + 1.0000i\n",
      "\n"
     ]
    }
   ],
   "source": [
    "1 + i"
   ]
  },
  {
   "cell_type": "code",
   "execution_count": 31,
   "id": "3ae9be6e-7692-47d1-99c5-9219cb9d62e5",
   "metadata": {
    "tags": []
   },
   "outputs": [
    {
     "name": "stdout",
     "output_type": "stream",
     "text": [
      "\n",
      "ans =\n",
      "\n",
      "   1.0000 + 1.0000i\n",
      "\n"
     ]
    }
   ],
   "source": [
    "1 +j"
   ]
  },
  {
   "cell_type": "code",
   "execution_count": 33,
   "id": "3db27859-339c-456f-938b-8ba2cee7e52d",
   "metadata": {
    "tags": []
   },
   "outputs": [
    {
     "name": "stdout",
     "output_type": "stream",
     "text": [
      "\n",
      "ans =\n",
      "\n",
      "   3.0000 - 5.0000i\n",
      "\n"
     ]
    }
   ],
   "source": [
    "3 - 5i"
   ]
  },
  {
   "cell_type": "code",
   "execution_count": 34,
   "id": "43de9652-0848-4900-b27f-862d733dcdda",
   "metadata": {
    "tags": []
   },
   "outputs": [
    {
     "name": "stdout",
     "output_type": "stream",
     "text": [
      "\n",
      "ans =\n",
      "\n",
      "   3.0000 - 5.0000i\n",
      "\n"
     ]
    }
   ],
   "source": [
    "3 - 5*i "
   ]
  },
  {
   "cell_type": "code",
   "execution_count": 35,
   "id": "90437660-f28e-4abe-86b2-40de3de990b7",
   "metadata": {
    "tags": []
   },
   "outputs": [
    {
     "name": "stderr",
     "output_type": "stream",
     "text": [
      "\u001b[0;31mInvalid expression. Check for missing multiplication operator, missing or\n",
      "unbalanced delimiters, or other syntax error. To construct matrices, use\n",
      "brackets instead of parentheses.\n",
      "\n",
      "\u001b[0m"
     ]
    }
   ],
   "source": [
    "3 - 5 i"
   ]
  },
  {
   "cell_type": "code",
   "execution_count": 36,
   "id": "8559849d-5be7-407b-9a3f-c03354519f2d",
   "metadata": {
    "tags": []
   },
   "outputs": [
    {
     "name": "stdout",
     "output_type": "stream",
     "text": [
      "\n",
      "ans =\n",
      "\n",
      "  -1.0000 + 2.0000i\n",
      "\n"
     ]
    }
   ],
   "source": [
    "i*(i + 2)"
   ]
  },
  {
   "cell_type": "code",
   "execution_count": 43,
   "id": "2e91e2f8-4783-422f-87d4-c9fecb836910",
   "metadata": {
    "tags": []
   },
   "outputs": [],
   "source": [
    "z=3+5i;"
   ]
  },
  {
   "cell_type": "code",
   "execution_count": 44,
   "id": "c2c10eee-cadd-48dc-a6ac-4a7249896929",
   "metadata": {
    "tags": []
   },
   "outputs": [
    {
     "name": "stdout",
     "output_type": "stream",
     "text": [
      "\n",
      "module =\n",
      "\n",
      "    5.8310\n",
      "\n"
     ]
    }
   ],
   "source": [
    "module=abs(z)"
   ]
  },
  {
   "cell_type": "code",
   "execution_count": 45,
   "id": "aef826c1-ae29-430d-b89c-f0441f3b2fb4",
   "metadata": {
    "tags": []
   },
   "outputs": [
    {
     "name": "stdout",
     "output_type": "stream",
     "text": [
      "\n",
      "conjugue =\n",
      "\n",
      "   3.0000 - 5.0000i\n",
      "\n"
     ]
    }
   ],
   "source": [
    "conjugue=conj(z)"
   ]
  },
  {
   "cell_type": "code",
   "execution_count": 46,
   "id": "06bff5c1-82c4-40ae-9c98-a98d12b8c89d",
   "metadata": {
    "tags": []
   },
   "outputs": [
    {
     "name": "stdout",
     "output_type": "stream",
     "text": [
      "\n",
      "ans =\n",
      "\n",
      "     3\n",
      "\n"
     ]
    }
   ],
   "source": [
    "real(conjugue)"
   ]
  },
  {
   "cell_type": "code",
   "execution_count": 47,
   "id": "1f168edc-51a6-4336-90ee-f00b51ce7223",
   "metadata": {
    "tags": []
   },
   "outputs": [
    {
     "name": "stdout",
     "output_type": "stream",
     "text": [
      "\n",
      "ans =\n",
      "\n",
      "    -5\n",
      "\n"
     ]
    }
   ],
   "source": [
    "imag(conjugue)"
   ]
  },
  {
   "cell_type": "code",
   "execution_count": 48,
   "id": "4d872582-9089-47a2-86ee-ed9ee228e4f2",
   "metadata": {
    "tags": []
   },
   "outputs": [
    {
     "name": "stdout",
     "output_type": "stream",
     "text": [
      "\n",
      "argument =\n",
      "\n",
      "    1.0304\n",
      "\n"
     ]
    }
   ],
   "source": [
    "argument=angle(z)"
   ]
  },
  {
   "cell_type": "markdown",
   "id": "51dfba4d-c2dd-44f3-b760-dd9ec3802511",
   "metadata": {},
   "source": [
    "EXERCICE 5"
   ]
  },
  {
   "cell_type": "code",
   "execution_count": 49,
   "id": "49a3643d-95c5-4d48-b45f-995c5c637c4b",
   "metadata": {
    "tags": []
   },
   "outputs": [
    {
     "name": "stdout",
     "output_type": "stream",
     "text": [
      "\n",
      "r =\n",
      "\n",
      "   15.8600\n",
      "\n"
     ]
    }
   ],
   "source": [
    "x=2.5;y=3.1;r=x^2+y^2"
   ]
  },
  {
   "cell_type": "code",
   "execution_count": 50,
   "id": "100d0034-07c7-4a16-bab6-1d7fa61ba1b1",
   "metadata": {
    "tags": []
   },
   "outputs": [
    {
     "name": "stdout",
     "output_type": "stream",
     "text": [
      "\n",
      "x =\n",
      "\n",
      "    2.5000\n",
      "\n"
     ]
    }
   ],
   "source": [
    "x"
   ]
  },
  {
   "cell_type": "code",
   "execution_count": 51,
   "id": "b4d42d19-4202-41ef-83db-0cb31ec9671b",
   "metadata": {
    "tags": []
   },
   "outputs": [
    {
     "name": "stdout",
     "output_type": "stream",
     "text": [
      "\n",
      "y =\n",
      "\n",
      "    3.1000\n",
      "\n"
     ]
    }
   ],
   "source": [
    "y"
   ]
  },
  {
   "cell_type": "code",
   "execution_count": 52,
   "id": "7f602b02-cf6a-4b2a-93e0-842a09c87d76",
   "metadata": {
    "tags": []
   },
   "outputs": [
    {
     "name": "stdout",
     "output_type": "stream",
     "text": [
      "\n",
      "rayon =\n",
      "\n",
      "    3.4000\n",
      "\n"
     ]
    }
   ],
   "source": [
    "rayon=3.4"
   ]
  },
  {
   "cell_type": "code",
   "execution_count": 53,
   "id": "ead404c3-5b60-4a69-a61b-f1a1a01c6a8b",
   "metadata": {
    "tags": []
   },
   "outputs": [
    {
     "name": "stdout",
     "output_type": "stream",
     "text": [
      "\n",
      "Rayon =\n",
      "\n",
      "    0.0045\n",
      "\n"
     ]
    }
   ],
   "source": [
    "Rayon=4.5e-3"
   ]
  },
  {
   "cell_type": "code",
   "execution_count": 54,
   "id": "3cd79855-7c9e-4eed-b16d-5b0e05092b40",
   "metadata": {
    "tags": []
   },
   "outputs": [
    {
     "name": "stdout",
     "output_type": "stream",
     "text": [
      "\n",
      "z_1 =\n",
      "\n",
      "   3.4000 + 5.3000i\n",
      "\n"
     ]
    }
   ],
   "source": [
    "z_1=3.4+5.3i"
   ]
  },
  {
   "cell_type": "code",
   "execution_count": 55,
   "id": "9a8e1190-eb66-4810-aff6-780a6cb99544",
   "metadata": {
    "tags": []
   },
   "outputs": [
    {
     "name": "stdout",
     "output_type": "stream",
     "text": [
      "\n",
      "nom = \n",
      "\n",
      "    \"dupont\"\n",
      "\n"
     ]
    }
   ],
   "source": [
    "nom=\"dupont\""
   ]
  },
  {
   "cell_type": "code",
   "execution_count": 56,
   "id": "b4759442-d619-45fc-8eea-9e2e9356519d",
   "metadata": {
    "tags": []
   },
   "outputs": [
    {
     "name": "stdout",
     "output_type": "stream",
     "text": [
      "\n",
      "chiffre = \n",
      "\n",
      "    \"5\"\n",
      "\n"
     ]
    }
   ],
   "source": [
    "chiffre=\"5\""
   ]
  },
  {
   "cell_type": "markdown",
   "id": "57098ce4-3dd7-4988-9e77-c484f38cf269",
   "metadata": {},
   "source": [
    "EXERCICE 6"
   ]
  },
  {
   "cell_type": "code",
   "execution_count": 57,
   "id": "36d2ac6d-64cf-420d-9693-ff5f716a7521",
   "metadata": {
    "tags": []
   },
   "outputs": [
    {
     "name": "stdout",
     "output_type": "stream",
     "text": [
      "\n",
      "Your variables are:\n",
      "\n",
      "Rayon     c         module    rayon     z         \n",
      "ans       chiffre   nom       x         z_1       \n",
      "argument  conjugue  r         y         \n",
      "\n"
     ]
    }
   ],
   "source": [
    "who"
   ]
  },
  {
   "cell_type": "code",
   "execution_count": 58,
   "id": "e47ef80a-c079-4760-b53e-7f031e853ecc",
   "metadata": {
    "tags": []
   },
   "outputs": [
    {
     "name": "stdout",
     "output_type": "stream",
     "text": [
      "  Name          Size            Bytes  Class     Attributes\n",
      "\n",
      "  Rayon         1x1                 8  double              \n",
      "  ans           1x1                 8  double              \n",
      "  argument      1x1                 8  double              \n",
      "  c             1x1                 8  double              \n",
      "  chiffre       1x1               150  string              \n",
      "  conjugue      1x1                16  double    complex   \n",
      "  module        1x1                 8  double              \n",
      "  nom           1x1               150  string              \n",
      "  r             1x1                 8  double              \n",
      "  rayon         1x1                 8  double              \n",
      "  x             1x1                 8  double              \n",
      "  y             1x1                 8  double              \n",
      "  z             1x1                16  double    complex   \n",
      "  z_1           1x1                16  double    complex   \n",
      "\n"
     ]
    }
   ],
   "source": [
    "whos"
   ]
  },
  {
   "cell_type": "code",
   "execution_count": 59,
   "id": "76683057-3546-4b72-aff4-1ee80b4314fb",
   "metadata": {
    "tags": []
   },
   "outputs": [],
   "source": [
    "clear Rayon"
   ]
  },
  {
   "cell_type": "code",
   "execution_count": 60,
   "id": "67b97d49-0ef5-42dd-b19c-4ed940035bc0",
   "metadata": {
    "tags": []
   },
   "outputs": [
    {
     "name": "stdout",
     "output_type": "stream",
     "text": [
      "  Name          Size            Bytes  Class     Attributes\n",
      "\n",
      "  ans           1x1                 8  double              \n",
      "  argument      1x1                 8  double              \n",
      "  c             1x1                 8  double              \n",
      "  chiffre       1x1               150  string              \n",
      "  conjugue      1x1                16  double    complex   \n",
      "  module        1x1                 8  double              \n",
      "  nom           1x1               150  string              \n",
      "  r             1x1                 8  double              \n",
      "  rayon         1x1                 8  double              \n",
      "  x             1x1                 8  double              \n",
      "  y             1x1                 8  double              \n",
      "  z             1x1                16  double    complex   \n",
      "  z_1           1x1                16  double    complex   \n",
      "\n"
     ]
    }
   ],
   "source": [
    "whos"
   ]
  },
  {
   "cell_type": "code",
   "execution_count": 61,
   "id": "e2f20b44-44c7-4fcd-a0ce-c92154f58954",
   "metadata": {
    "tags": []
   },
   "outputs": [],
   "source": [
    "save(\"mem1.mat\")"
   ]
  },
  {
   "cell_type": "code",
   "execution_count": 62,
   "id": "782fc101-865d-4e13-aa31-584e204dbe7a",
   "metadata": {
    "tags": []
   },
   "outputs": [],
   "source": [
    "clear"
   ]
  },
  {
   "cell_type": "code",
   "execution_count": 63,
   "id": "a8e38b55-cda8-4234-a3e7-62583ca49aba",
   "metadata": {
    "tags": []
   },
   "outputs": [],
   "source": [
    "whos"
   ]
  },
  {
   "cell_type": "code",
   "execution_count": 64,
   "id": "433d7aea-8f75-4d28-98a1-1b8c2a4825c5",
   "metadata": {
    "tags": []
   },
   "outputs": [],
   "source": [
    "load(\"mem1.mat\")"
   ]
  },
  {
   "cell_type": "code",
   "execution_count": 65,
   "id": "dc77dded-11f5-4a28-a9f8-46b220a7fa33",
   "metadata": {
    "tags": []
   },
   "outputs": [
    {
     "name": "stdout",
     "output_type": "stream",
     "text": [
      "  Name          Size            Bytes  Class     Attributes\n",
      "\n",
      "  ans           1x1                 8  double              \n",
      "  argument      1x1                 8  double              \n",
      "  c             1x1                 8  double              \n",
      "  chiffre       1x1               150  string              \n",
      "  conjugue      1x1                16  double    complex   \n",
      "  module        1x1                 8  double              \n",
      "  nom           1x1               150  string              \n",
      "  r             1x1                 8  double              \n",
      "  rayon         1x1                 8  double              \n",
      "  x             1x1                 8  double              \n",
      "  y             1x1                 8  double              \n",
      "  z             1x1                16  double    complex   \n",
      "  z_1           1x1                16  double    complex   \n",
      "\n"
     ]
    }
   ],
   "source": [
    "whos"
   ]
  },
  {
   "cell_type": "markdown",
   "id": "1384dc23-b5ae-45a6-962d-6852594b25bc",
   "metadata": {},
   "source": [
    "EXERCICE 7"
   ]
  },
  {
   "cell_type": "code",
   "execution_count": 66,
   "id": "90e67885-e1d2-4920-bd9f-1f1acc431048",
   "metadata": {
    "tags": []
   },
   "outputs": [],
   "source": [
    "clear"
   ]
  },
  {
   "cell_type": "code",
   "execution_count": 67,
   "id": "88e7cd42-8909-449d-b0c0-8e757831a0b4",
   "metadata": {
    "tags": []
   },
   "outputs": [
    {
     "name": "stdout",
     "output_type": "stream",
     "text": [
      "\n",
      "v1 =\n",
      "\n",
      "    3.4000    5.6000    7.8000\n",
      "\n"
     ]
    }
   ],
   "source": [
    "v1=[3.4,5.6,7.8]"
   ]
  },
  {
   "cell_type": "code",
   "execution_count": 68,
   "id": "c9926747-bdbe-44c3-91ff-fa6140edbd46",
   "metadata": {
    "tags": []
   },
   "outputs": [
    {
     "name": "stdout",
     "output_type": "stream",
     "text": [
      "\n",
      "v1c =\n",
      "\n",
      "    3.4000\n",
      "    5.6000\n",
      "    7.8000\n",
      "\n"
     ]
    }
   ],
   "source": [
    "v1c=[3.4;5.6;7.8]"
   ]
  },
  {
   "cell_type": "code",
   "execution_count": 69,
   "id": "47288b6c-2f51-44d0-a907-016167ed6047",
   "metadata": {
    "tags": []
   },
   "outputs": [
    {
     "name": "stdout",
     "output_type": "stream",
     "text": [
      "  Name      Size            Bytes  Class     Attributes\n",
      "\n",
      "  v1        1x3                24  double              \n",
      "  v1c       3x1                24  double              \n",
      "\n"
     ]
    }
   ],
   "source": [
    "whos"
   ]
  },
  {
   "cell_type": "code",
   "execution_count": 70,
   "id": "5445ff95-d790-4968-9965-e2dd3ac11111",
   "metadata": {
    "tags": []
   },
   "outputs": [
    {
     "name": "stdout",
     "output_type": "stream",
     "text": [
      "\n",
      "ans =\n",
      "\n",
      "  3x3 logical array\n",
      "\n",
      "   1   0   0\n",
      "   0   1   0\n",
      "   0   0   1\n",
      "\n"
     ]
    }
   ],
   "source": [
    "v1==v1c"
   ]
  },
  {
   "cell_type": "code",
   "execution_count": 72,
   "id": "a1ec2314-5443-4769-8d10-d265d6865efe",
   "metadata": {
    "tags": []
   },
   "outputs": [
    {
     "name": "stdout",
     "output_type": "stream",
     "text": [
      "\n",
      "v2 =\n",
      "\n",
      "    3.4000    5.6000    7.8000\n",
      "\n"
     ]
    }
   ],
   "source": [
    "v2=v1c'"
   ]
  },
  {
   "cell_type": "code",
   "execution_count": 73,
   "id": "b9fc43d9-88c2-44d7-a9b8-d9270b3c5e02",
   "metadata": {
    "tags": []
   },
   "outputs": [
    {
     "name": "stdout",
     "output_type": "stream",
     "text": [
      "\n",
      "ans =\n",
      "\n",
      "  1x3 logical array\n",
      "\n",
      "   1   1   1\n",
      "\n"
     ]
    }
   ],
   "source": [
    "v1==v2"
   ]
  },
  {
   "cell_type": "code",
   "execution_count": 74,
   "id": "701d5ca8-08de-4dc9-9676-29c13b650be7",
   "metadata": {
    "tags": []
   },
   "outputs": [
    {
     "name": "stdout",
     "output_type": "stream",
     "text": [
      " .' Transpose.\n",
      "    X.' is the non-conjugate transpose.\n",
      " \n",
      "    B = TRANSPOSE(A) is called for the syntax A.' when A is an object.\n",
      " \n",
      "    See <a href=\"matlab:helpview('matlab','MATLAB_OPS')\">MATLAB Operators and Special Characters</a> for more details.\n",
      " \n",
      "    See also CTRANSPOSE, PERMUTE, PAGETRANSPOSE.\n",
      "\n",
      "    Documentation for transpose\n",
      "       doc transpose\n",
      "\n",
      "    Other uses of transpose\n",
      "\n",
      "       categorical/transpose\n",
      "       matlab.mixin.indexing.RedefinesParen/transpose\n",
      "       sym/transpose\n",
      "       symbolic/transpose\n",
      "\n"
     ]
    }
   ],
   "source": [
    "help transpose"
   ]
  },
  {
   "cell_type": "code",
   "execution_count": 75,
   "id": "dc368a93-9e6a-4499-abbd-b09ea8d2f3f2",
   "metadata": {
    "tags": []
   },
   "outputs": [
    {
     "name": "stdout",
     "output_type": "stream",
     "text": [
      "\n",
      "ans =\n",
      "\n",
      "    3.4000    5.6000    7.8000\n",
      "\n"
     ]
    }
   ],
   "source": [
    "transpose(v1c)"
   ]
  },
  {
   "cell_type": "markdown",
   "id": "0667fe39-1c6a-49f2-9989-e0ef89bf2c40",
   "metadata": {},
   "source": [
    "EXERCICE 8"
   ]
  },
  {
   "cell_type": "code",
   "execution_count": 76,
   "id": "8e79a0fc-c580-45b1-852d-cdf36ac59625",
   "metadata": {
    "tags": []
   },
   "outputs": [
    {
     "name": "stdout",
     "output_type": "stream",
     "text": [
      "\n",
      "ans =\n",
      "\n",
      "    3.4000\n",
      "\n"
     ]
    }
   ],
   "source": [
    "v1(1)"
   ]
  },
  {
   "cell_type": "code",
   "execution_count": 77,
   "id": "eb13de11-7947-428e-a082-1518bdf28b85",
   "metadata": {
    "tags": []
   },
   "outputs": [
    {
     "name": "stdout",
     "output_type": "stream",
     "text": [
      "\n",
      "ans =\n",
      "\n",
      "    7.8000\n",
      "\n"
     ]
    }
   ],
   "source": [
    "v1(3)"
   ]
  },
  {
   "cell_type": "code",
   "execution_count": 78,
   "id": "4c485624-53d1-49bf-8ac5-feb95c4b36d2",
   "metadata": {
    "tags": []
   },
   "outputs": [
    {
     "name": "stdout",
     "output_type": "stream",
     "text": [
      "\n",
      "ans =\n",
      "\n",
      "    7.8000\n",
      "\n"
     ]
    }
   ],
   "source": [
    "v1(end)"
   ]
  },
  {
   "cell_type": "markdown",
   "id": "994baded-9421-4b3b-ac58-63b033befa74",
   "metadata": {},
   "source": [
    "EXERCICE 9"
   ]
  },
  {
   "cell_type": "code",
   "execution_count": 79,
   "id": "d16d2546-2b54-47ea-8eaa-38d896f08839",
   "metadata": {
    "tags": []
   },
   "outputs": [
    {
     "name": "stdout",
     "output_type": "stream",
     "text": [
      "\n",
      "ans =\n",
      "\n",
      "     1     2     3     4     5\n",
      "\n"
     ]
    }
   ],
   "source": [
    "1:5"
   ]
  },
  {
   "cell_type": "code",
   "execution_count": 80,
   "id": "e703965d-87d4-4c80-a988-01ecc9844484",
   "metadata": {
    "tags": []
   },
   "outputs": [
    {
     "name": "stdout",
     "output_type": "stream",
     "text": [
      "\n",
      "ans =\n",
      "\n",
      "    1.1000    2.1000    3.1000    4.1000    5.1000\n",
      "\n"
     ]
    }
   ],
   "source": [
    "1.1:5.5"
   ]
  },
  {
   "cell_type": "code",
   "execution_count": 81,
   "id": "24cfbff8-c741-49ee-a5cd-b45806ea51e4",
   "metadata": {
    "tags": []
   },
   "outputs": [
    {
     "name": "stdout",
     "output_type": "stream",
     "text": [
      "\n",
      "ans =\n",
      "\n",
      "  Columns 1 through 7\n",
      "\n",
      "    1.0000    1.2500    1.5000    1.7500    2.0000    2.2500    2.5000\n",
      "\n",
      "  Columns 8 through 14\n",
      "\n",
      "    2.7500    3.0000    3.2500    3.5000    3.7500    4.0000    4.2500\n",
      "\n",
      "  Columns 15 through 17\n",
      "\n",
      "    4.5000    4.7500    5.0000\n",
      "\n"
     ]
    }
   ],
   "source": [
    "1:0.25:5"
   ]
  },
  {
   "cell_type": "code",
   "execution_count": 82,
   "id": "3ecbbd10-80cf-4ce2-91bf-e36fe1876575",
   "metadata": {
    "tags": []
   },
   "outputs": [
    {
     "name": "stdout",
     "output_type": "stream",
     "text": [
      "\n",
      "v3 =\n",
      "\n",
      "  Columns 1 through 7\n",
      "\n",
      "    1.0000    1.2500    1.5000    1.7500    2.0000    2.2500    2.5000\n",
      "\n",
      "  Columns 8 through 14\n",
      "\n",
      "    2.7500    3.0000    3.2500    3.5000    3.7500    4.0000    4.2500\n",
      "\n",
      "  Columns 15 through 17\n",
      "\n",
      "    4.5000    4.7500    5.0000\n",
      "\n"
     ]
    }
   ],
   "source": [
    "v3=[1:0.25:5]"
   ]
  },
  {
   "cell_type": "code",
   "execution_count": 83,
   "id": "6e98598d-c56e-4496-8e25-819e5554a3df",
   "metadata": {
    "tags": []
   },
   "outputs": [
    {
     "name": "stdout",
     "output_type": "stream",
     "text": [
      "\n",
      "v4 =\n",
      "\n",
      "  Columns 1 through 7\n",
      "\n",
      "    1.0000    0.9000    0.8000    0.7000    0.6000    0.5000    0.4000\n",
      "\n",
      "  Columns 8 through 14\n",
      "\n",
      "    0.3000    0.2000    0.1000         0   -0.1000   -0.2000   -0.3000\n",
      "\n",
      "  Columns 15 through 21\n",
      "\n",
      "   -0.4000   -0.5000   -0.6000   -0.7000   -0.8000   -0.9000   -1.0000\n",
      "\n"
     ]
    }
   ],
   "source": [
    "v4=[1:-0.1:-1]"
   ]
  },
  {
   "cell_type": "markdown",
   "id": "ae936f63-98ed-4d8d-ab0d-5bd018dde41e",
   "metadata": {},
   "source": [
    "EXERCICE 10"
   ]
  },
  {
   "cell_type": "code",
   "execution_count": 84,
   "id": "ef400992-7419-42fb-a014-edd839ad3a29",
   "metadata": {
    "tags": []
   },
   "outputs": [
    {
     "name": "stdout",
     "output_type": "stream",
     "text": [
      "\n",
      "ans =\n",
      "\n",
      "     3\n",
      "\n"
     ]
    }
   ],
   "source": [
    "v3(9)"
   ]
  },
  {
   "cell_type": "code",
   "execution_count": 85,
   "id": "8bbab923-8608-410e-91d1-1032d1a82ca7",
   "metadata": {
    "tags": []
   },
   "outputs": [
    {
     "name": "stdout",
     "output_type": "stream",
     "text": [
      "\n",
      "ans =\n",
      "\n",
      "    2.0000    2.2500    2.5000    2.7500    3.0000\n",
      "\n"
     ]
    }
   ],
   "source": [
    "v3([5,6,7,8,9])"
   ]
  },
  {
   "cell_type": "code",
   "execution_count": 86,
   "id": "1464118f-760a-40bd-a3da-69d83dd0e92b",
   "metadata": {
    "tags": []
   },
   "outputs": [
    {
     "name": "stdout",
     "output_type": "stream",
     "text": [
      "\n",
      "ans =\n",
      "\n",
      "    2.0000    2.2500    2.5000    2.7500    3.0000\n",
      "\n"
     ]
    }
   ],
   "source": [
    "v3([5:9])"
   ]
  },
  {
   "cell_type": "code",
   "execution_count": 87,
   "id": "5b858fa6-d3e4-4863-a816-449a51554679",
   "metadata": {
    "tags": []
   },
   "outputs": [
    {
     "name": "stdout",
     "output_type": "stream",
     "text": [
      "\n",
      "sv3 =\n",
      "\n",
      "    2.0000    2.2500    2.5000    2.7500    3.0000\n",
      "\n"
     ]
    }
   ],
   "source": [
    "sv3=v3([5:9])"
   ]
  },
  {
   "cell_type": "code",
   "execution_count": 88,
   "id": "cdeeb0a1-e022-452d-84fa-4b061ce276f5",
   "metadata": {
    "tags": []
   },
   "outputs": [
    {
     "name": "stdout",
     "output_type": "stream",
     "text": [
      "  Name      Size            Bytes  Class     Attributes\n",
      "\n",
      "  ans       1x5                40  double              \n",
      "  sv3       1x5                40  double              \n",
      "  v1        1x3                24  double              \n",
      "  v1c       3x1                24  double              \n",
      "  v2        1x3                24  double              \n",
      "  v3        1x17              136  double              \n",
      "  v4        1x21              168  double              \n",
      "\n"
     ]
    }
   ],
   "source": [
    "whos"
   ]
  },
  {
   "cell_type": "code",
   "execution_count": 89,
   "id": "4f82f18f-0362-4250-a11b-855cfe052429",
   "metadata": {
    "tags": []
   },
   "outputs": [
    {
     "name": "stdout",
     "output_type": "stream",
     "text": [
      "\n",
      "sv31 =\n",
      "\n",
      "    2.0000    2.5000    3.0000    3.5000    4.0000\n",
      "\n"
     ]
    }
   ],
   "source": [
    "sv31=v3([5:2:13])"
   ]
  },
  {
   "cell_type": "code",
   "execution_count": 90,
   "id": "9cefa3a1-70cc-48eb-9474-e919e4eb0a7f",
   "metadata": {
    "tags": []
   },
   "outputs": [
    {
     "name": "stdout",
     "output_type": "stream",
     "text": [
      "\n",
      "sv1c =\n",
      "\n",
      "    5.6000\n",
      "    7.8000\n",
      "\n"
     ]
    }
   ],
   "source": [
    "sv1c=v1c([2:end])"
   ]
  },
  {
   "cell_type": "markdown",
   "id": "9b6eb6cc-4985-4c5b-8172-bea45b029b3b",
   "metadata": {},
   "source": [
    "EXERCICE 11"
   ]
  },
  {
   "cell_type": "code",
   "execution_count": 91,
   "id": "908175fb-2c0e-4ad9-8652-45b7cd972f6e",
   "metadata": {
    "tags": []
   },
   "outputs": [
    {
     "name": "stdout",
     "output_type": "stream",
     "text": [
      " LENGTH   Length of vector.\n",
      "    LENGTH(X) returns the length of vector X.  It is equivalent\n",
      "    to MAX(SIZE(X)) for non-empty arrays and 0 for empty ones.\n",
      "   \n",
      "    See also NUMEL.\n",
      "\n",
      "    Documentation for length\n",
      "       doc length\n",
      "\n",
      "    Other uses of length\n",
      "\n",
      "       categorical/length\n",
      "       containers.Map/length\n",
      "       dataset/length\n",
      "       dictionary/length\n",
      "       matlab.mixin.indexing.RedefinesParen/length\n",
      "       serial/length\n",
      "       tall/length\n",
      "       tscollection/length\n",
      "\n"
     ]
    }
   ],
   "source": [
    "help length"
   ]
  },
  {
   "cell_type": "code",
   "execution_count": 92,
   "id": "9c2967cb-3975-4868-9b07-fb8e7b80259c",
   "metadata": {
    "tags": []
   },
   "outputs": [
    {
     "name": "stdout",
     "output_type": "stream",
     "text": [
      "\n",
      "ans =\n",
      "\n",
      "     3\n",
      "\n"
     ]
    }
   ],
   "source": [
    "length(v1)"
   ]
  },
  {
   "cell_type": "code",
   "execution_count": 93,
   "id": "ea620275-45b1-4589-95e8-8ed2cc58bd2c",
   "metadata": {
    "tags": []
   },
   "outputs": [
    {
     "name": "stdout",
     "output_type": "stream",
     "text": [
      "\n",
      "ans =\n",
      "\n",
      "     3\n",
      "\n"
     ]
    }
   ],
   "source": [
    "length(v1c)"
   ]
  },
  {
   "cell_type": "code",
   "execution_count": 94,
   "id": "1afbc9d3-b89f-4bb4-90f9-631ce5b3e895",
   "metadata": {
    "tags": []
   },
   "outputs": [
    {
     "name": "stdout",
     "output_type": "stream",
     "text": [
      " SIZE   Size of array.  \n",
      "    D = SIZE(X), for M-by-N matrix X, returns the two-element row vector\n",
      "    D = [M,N] containing the number of rows and columns in the matrix.\n",
      "    For N-D arrays, SIZE(X) returns a 1-by-N vector of dimension lengths.\n",
      "    Trailing singleton dimensions are ignored.\n",
      " \n",
      "    [M,N] = SIZE(X) for matrix X, returns the number of rows and columns in\n",
      "    X as separate output variables. \n",
      "    \n",
      "    [M1,M2,M3,...,MN] = SIZE(X) for N>1 returns the sizes of the first N \n",
      "    dimensions of the array X.  If the number of output arguments N does\n",
      "    not equal NDIMS(X), then for:\n",
      " \n",
      "    N > NDIMS(X), SIZE returns ones in the \"extra\" variables, i.e., outputs\n",
      "                  NDIMS(X)+1 through N.\n",
      "    N < NDIMS(X), MN contains the product of the sizes of dimensions N\n",
      "                  through NDIMS(X).\n",
      " \n",
      "    M = SIZE(X,DIM) returns the lengths of the specified dimensions in a \n",
      "    row vector. DIM can be a scalar or vector of dimensions. For example, \n",
      "    SIZE(X,1) returns the number of rows of X and SIZE(X,[1 2]) returns a \n",
      "    row vector containing the number of rows and columns.\n",
      " \n",
      "    M = SIZE(X,DIM1,DIM2,...,DIMN) returns the lengths of the dimensions\n",
      "    DIM1,...,DIMN as a row vector.\n",
      " \n",
      "    [M1,M2,...,MN] = SIZE(X,DIM) OR [M1,M2,...,MN] = SIZE(X,DIM1,...,DIMN)\n",
      "    returns the lengths of the specified dimensions as separate outputs.\n",
      "    The number of outputs must equal the number of dimensions provided.\n",
      " \n",
      "    When SIZE is applied to a Java array, the number of rows\n",
      "    returned is the length of the Java array and the number of columns\n",
      "    is always 1.  When SIZE is applied to a Java array of arrays, the\n",
      "    result describes only the top level array in the array of arrays.\n",
      " \n",
      "    Example:\n",
      "    If\n",
      "       X = rand(2,3,4);\n",
      "    then\n",
      "       d = size(X)              returns  d = [2 3 4]\n",
      "       [m1,m2,m3,m4] = size(X)  returns  m1 = 2, m2 = 3, m3 = 4, m4 = 1\n",
      "       [m,n] = size(X)          returns  m = 2, n = 12\n",
      "       m2 = size(X,2)           returns  m2 = 3\n",
      " \n",
      "    See also LENGTH, NDIMS, NUMEL.\n",
      "\n",
      "    Documentation for size\n",
      "       doc size\n",
      "\n",
      "    Other uses of size\n",
      "\n",
      "       categorical/size                             sym/size\n",
      "       containers.Map/size                          symfun/size\n",
      "       dataset/size                                 tabular/size\n",
      "       dictionary/size                              tall/size\n",
      "       InputOutputModel/size                        triangulation/size\n",
      "       lti/size                                     TriRep/size\n",
      "       matlab.mixin.indexing.RedefinesParen/size    tscollection/size\n",
      "       serial/size\n",
      "\n"
     ]
    }
   ],
   "source": [
    "help size"
   ]
  },
  {
   "cell_type": "code",
   "execution_count": 95,
   "id": "66e42041-0593-48eb-b812-93c5661af1ed",
   "metadata": {
    "tags": []
   },
   "outputs": [
    {
     "name": "stdout",
     "output_type": "stream",
     "text": [
      "\n",
      "ans =\n",
      "\n",
      "     1     3\n",
      "\n"
     ]
    }
   ],
   "source": [
    "size(v1)"
   ]
  },
  {
   "cell_type": "code",
   "execution_count": 96,
   "id": "f0feb54e-dd2d-46de-9a37-e22c158e3a5a",
   "metadata": {
    "tags": []
   },
   "outputs": [
    {
     "name": "stdout",
     "output_type": "stream",
     "text": [
      "\n",
      "ans =\n",
      "\n",
      "     3     1\n",
      "\n"
     ]
    }
   ],
   "source": [
    "size(v1c)"
   ]
  },
  {
   "cell_type": "markdown",
   "id": "e1b3d0d4-74f9-4eee-9714-94411ca3821c",
   "metadata": {},
   "source": [
    "EXERCICE 12"
   ]
  },
  {
   "cell_type": "code",
   "execution_count": 97,
   "id": "0472a15d-4985-41b1-99ee-0758e52675a3",
   "metadata": {
    "tags": []
   },
   "outputs": [],
   "source": [
    "clear all"
   ]
  },
  {
   "cell_type": "code",
   "execution_count": 98,
   "id": "b3e8181f-cba7-40f3-8877-8592b53ebc0e",
   "metadata": {
    "tags": []
   },
   "outputs": [],
   "source": [
    "who"
   ]
  },
  {
   "cell_type": "code",
   "execution_count": 99,
   "id": "c71c214e-80ec-4c39-9b45-38647be979fe",
   "metadata": {
    "tags": []
   },
   "outputs": [
    {
     "name": "stdout",
     "output_type": "stream",
     "text": [
      "\n",
      "a0 =\n",
      "\n",
      "    1.0000    2.0000    3.2000\n",
      "    4.0000    2.0000    7.0000\n",
      "\n"
     ]
    }
   ],
   "source": [
    "a0=[1,2,3.2;4,2,7]"
   ]
  },
  {
   "cell_type": "code",
   "execution_count": 103,
   "id": "ae9f2269-752a-475d-97f7-524ba2a16d5f",
   "metadata": {
    "tags": []
   },
   "outputs": [],
   "source": [
    "a1=a0';"
   ]
  },
  {
   "cell_type": "code",
   "execution_count": 104,
   "id": "f37dc17a-8218-4d01-be3e-f67cdc29e9b4",
   "metadata": {
    "tags": []
   },
   "outputs": [
    {
     "name": "stdout",
     "output_type": "stream",
     "text": [
      "\n",
      "a1 =\n",
      "\n",
      "    1.0000    4.0000\n",
      "    2.0000    2.0000\n",
      "    3.2000    7.0000\n",
      "\n"
     ]
    }
   ],
   "source": [
    "a1"
   ]
  },
  {
   "cell_type": "code",
   "execution_count": 105,
   "id": "0679760b-84bf-4fcd-8953-8cd810119d49",
   "metadata": {
    "tags": []
   },
   "outputs": [
    {
     "name": "stdout",
     "output_type": "stream",
     "text": [
      "\n",
      "m1 =\n",
      "\n",
      "     1     3\n",
      "     6     7\n",
      "\n"
     ]
    }
   ],
   "source": [
    "m1=[1,3;6,7]"
   ]
  },
  {
   "cell_type": "code",
   "execution_count": 106,
   "id": "c73b4b26-845c-458a-887e-033c5904d28e",
   "metadata": {
    "tags": []
   },
   "outputs": [
    {
     "name": "stdout",
     "output_type": "stream",
     "text": [
      "\n",
      "m2 =\n",
      "\n",
      "     1     3     4\n",
      "     4     5     6\n",
      "\n"
     ]
    }
   ],
   "source": [
    "m2=[1,3,4;...\n",
    "     4,5,6]"
   ]
  },
  {
   "cell_type": "code",
   "execution_count": 107,
   "id": "6e175333-a225-4b64-a5b9-32275e933ac9",
   "metadata": {
    "tags": []
   },
   "outputs": [
    {
     "name": "stdout",
     "output_type": "stream",
     "text": [
      "\n",
      "tm1 =\n",
      "\n",
      "     1     6\n",
      "     3     7\n",
      "\n"
     ]
    }
   ],
   "source": [
    "tm1=m1'"
   ]
  },
  {
   "cell_type": "code",
   "execution_count": 108,
   "id": "4a6b2362-8162-4112-8dc7-58fb8640ccf2",
   "metadata": {
    "tags": []
   },
   "outputs": [
    {
     "name": "stdout",
     "output_type": "stream",
     "text": [
      "\n",
      "tm2 =\n",
      "\n",
      "     1     4\n",
      "     3     5\n",
      "     4     6\n",
      "\n"
     ]
    }
   ],
   "source": [
    "tm2=transpose(m2)"
   ]
  },
  {
   "cell_type": "code",
   "execution_count": 109,
   "id": "e5539130-0081-4816-ac71-db37918623f9",
   "metadata": {
    "tags": []
   },
   "outputs": [
    {
     "name": "stdout",
     "output_type": "stream",
     "text": [
      "\n",
      "m3 =\n",
      "\n",
      "    4.5000    3.0000    6.0000\n",
      "    7.1000    4.0000    1.0000\n",
      "    5.0000    8.0000    9.4000\n",
      "\n"
     ]
    }
   ],
   "source": [
    "m3=[4.5,3,6;7.1,4,1;5,8,9.4]"
   ]
  },
  {
   "cell_type": "markdown",
   "id": "5bb80507-c83e-4fca-b0bf-2862db3bd38e",
   "metadata": {},
   "source": [
    "EXERCICE 13"
   ]
  },
  {
   "cell_type": "code",
   "execution_count": 110,
   "id": "6f8e288f-85c0-46f2-a465-cd3ae3a1cb86",
   "metadata": {
    "tags": []
   },
   "outputs": [
    {
     "name": "stdout",
     "output_type": "stream",
     "text": [
      "\n",
      "ans =\n",
      "\n",
      "     5\n",
      "\n"
     ]
    }
   ],
   "source": [
    "m3(3,1)"
   ]
  },
  {
   "cell_type": "code",
   "execution_count": 111,
   "id": "70e8a39f-e664-4e33-bb04-e7585856cc0d",
   "metadata": {
    "tags": []
   },
   "outputs": [
    {
     "name": "stdout",
     "output_type": "stream",
     "text": [
      "\n",
      "ans =\n",
      "\n",
      "    9.4000\n",
      "\n"
     ]
    }
   ],
   "source": [
    "m3(3,3)"
   ]
  },
  {
   "cell_type": "code",
   "execution_count": 112,
   "id": "1df78da4-85d1-42a1-9a90-6bf366f4ffb4",
   "metadata": {
    "tags": []
   },
   "outputs": [
    {
     "name": "stdout",
     "output_type": "stream",
     "text": [
      "\n",
      "vm3 =\n",
      "\n",
      "    4.5000    3.0000    6.0000\n",
      "\n"
     ]
    }
   ],
   "source": [
    "vm3=m3(1,[1:end])"
   ]
  },
  {
   "cell_type": "code",
   "execution_count": 113,
   "id": "44f2d3a7-ad85-4575-bbbb-1c4f52c6857e",
   "metadata": {
    "tags": []
   },
   "outputs": [
    {
     "name": "stdout",
     "output_type": "stream",
     "text": [
      "\n",
      "vm31 =\n",
      "\n",
      "     3\n",
      "     4\n",
      "     8\n",
      "\n"
     ]
    }
   ],
   "source": [
    "vm31=m3([1:end],2)"
   ]
  },
  {
   "cell_type": "code",
   "execution_count": 114,
   "id": "30b31d97-51f4-48fb-94c7-f823c14b5d75",
   "metadata": {
    "tags": []
   },
   "outputs": [],
   "source": [
    "% Equivalence"
   ]
  },
  {
   "cell_type": "code",
   "execution_count": 115,
   "id": "26e7d725-4369-4d3c-9cb9-1380f17ab21c",
   "metadata": {
    "tags": []
   },
   "outputs": [
    {
     "name": "stdout",
     "output_type": "stream",
     "text": [
      "\n",
      "vm31 =\n",
      "\n",
      "     3\n",
      "     4\n",
      "     8\n",
      "\n"
     ]
    }
   ],
   "source": [
    "vm31=m3(:,2)"
   ]
  },
  {
   "cell_type": "code",
   "execution_count": 116,
   "id": "5eafd732-2d80-40a4-a837-fef3c814b5a5",
   "metadata": {
    "tags": []
   },
   "outputs": [
    {
     "name": "stdout",
     "output_type": "stream",
     "text": [
      "\n",
      "sm3 =\n",
      "\n",
      "    4.0000    1.0000\n",
      "    8.0000    9.4000\n",
      "\n"
     ]
    }
   ],
   "source": [
    "sm3=m3(2:3,2:3)\n"
   ]
  },
  {
   "cell_type": "markdown",
   "id": "5bca1ee0-0e5f-4078-ba18-c577775804de",
   "metadata": {},
   "source": [
    "EXERCICE 14"
   ]
  },
  {
   "cell_type": "code",
   "execution_count": 117,
   "id": "ace55660-0f3b-4770-8d61-5afd86911d8a",
   "metadata": {
    "tags": []
   },
   "outputs": [
    {
     "name": "stdout",
     "output_type": "stream",
     "text": [
      "\n",
      "ans =\n",
      "\n",
      "     2     3\n",
      "\n"
     ]
    }
   ],
   "source": [
    "size(m2)"
   ]
  },
  {
   "cell_type": "code",
   "execution_count": 118,
   "id": "83bd90f0-aea3-4e67-aa72-387081df456e",
   "metadata": {
    "tags": []
   },
   "outputs": [
    {
     "name": "stdout",
     "output_type": "stream",
     "text": [
      "\n",
      "ans =\n",
      "\n",
      "     3     2\n",
      "\n"
     ]
    }
   ],
   "source": [
    "size(tm2)"
   ]
  },
  {
   "cell_type": "code",
   "execution_count": 119,
   "id": "b3d499e6-8ccb-496c-b30b-149422fcbcd5",
   "metadata": {
    "tags": []
   },
   "outputs": [
    {
     "name": "stdout",
     "output_type": "stream",
     "text": [
      "\n",
      "ans =\n",
      "\n",
      "     3     3\n",
      "\n"
     ]
    }
   ],
   "source": [
    "size(m3)"
   ]
  },
  {
   "cell_type": "code",
   "execution_count": 122,
   "id": "746772ba-4806-47b0-89db-309d99276238",
   "metadata": {
    "tags": []
   },
   "outputs": [
    {
     "name": "stdout",
     "output_type": "stream",
     "text": [
      "\n",
      "ans =\n",
      "\n",
      "     2\n",
      "\n"
     ]
    }
   ],
   "source": [
    "size(a0,1)"
   ]
  },
  {
   "cell_type": "code",
   "execution_count": 123,
   "id": "b3dca85c-c33d-45b4-9fba-a193a0e0b3c8",
   "metadata": {
    "tags": []
   },
   "outputs": [
    {
     "name": "stdout",
     "output_type": "stream",
     "text": [
      "\n",
      "ans =\n",
      "\n",
      "     3\n",
      "\n"
     ]
    }
   ],
   "source": [
    "size(a0,2)"
   ]
  },
  {
   "cell_type": "markdown",
   "id": "90a46600-ca7c-4bdc-8d6a-1851b35a4034",
   "metadata": {},
   "source": [
    "EXERCICE 15"
   ]
  },
  {
   "cell_type": "code",
   "execution_count": 125,
   "id": "be82eb89-a3d6-4240-929a-4c4eea117505",
   "metadata": {
    "tags": []
   },
   "outputs": [
    {
     "name": "stdout",
     "output_type": "stream",
     "text": [
      "\n",
      "m3 =\n",
      "\n",
      "    4.5000    3.0000    6.0000\n",
      "    7.1000    4.0000    1.0000\n",
      "    5.0000    8.0000    9.4000\n",
      "\n"
     ]
    }
   ],
   "source": [
    "m3"
   ]
  },
  {
   "cell_type": "code",
   "execution_count": 124,
   "id": "8692cd02-f212-4f7e-b3d1-702ed409e07b",
   "metadata": {
    "tags": []
   },
   "outputs": [
    {
     "name": "stdout",
     "output_type": "stream",
     "text": [
      "\n",
      "vd1 =\n",
      "\n",
      "    4.5000\n",
      "    4.0000\n",
      "    9.4000\n",
      "\n"
     ]
    }
   ],
   "source": [
    "vd1=diag(m3)"
   ]
  },
  {
   "cell_type": "code",
   "execution_count": 126,
   "id": "3e7284df-95ae-4292-b3ba-1f9bc79da372",
   "metadata": {
    "tags": []
   },
   "outputs": [
    {
     "name": "stdout",
     "output_type": "stream",
     "text": [
      "\n",
      "vd2 =\n",
      "\n",
      "     3\n",
      "     1\n",
      "\n"
     ]
    }
   ],
   "source": [
    "vd2=diag(m3,1)"
   ]
  },
  {
   "cell_type": "code",
   "execution_count": 127,
   "id": "af255cf8-cd11-491e-a407-556cdfff988e",
   "metadata": {
    "tags": []
   },
   "outputs": [
    {
     "name": "stdout",
     "output_type": "stream",
     "text": [
      "\n",
      "vd3 =\n",
      "\n",
      "    7.1000\n",
      "    8.0000\n",
      "\n"
     ]
    }
   ],
   "source": [
    "vd3=diag(m3,-1)"
   ]
  },
  {
   "cell_type": "code",
   "execution_count": 128,
   "id": "cb45cb08-50fc-4a87-b374-0170c8e55bca",
   "metadata": {
    "tags": []
   },
   "outputs": [
    {
     "name": "stdout",
     "output_type": "stream",
     "text": [
      "\n",
      "m4 =\n",
      "\n",
      "     1     0     0\n",
      "     0     2     0\n",
      "     0     0     3\n",
      "\n"
     ]
    }
   ],
   "source": [
    "m4=diag([1,2,3])"
   ]
  },
  {
   "cell_type": "code",
   "execution_count": 129,
   "id": "2f2528ba-dce8-4ca6-b2f0-c103050d924d",
   "metadata": {
    "tags": []
   },
   "outputs": [
    {
     "name": "stdout",
     "output_type": "stream",
     "text": [
      "\n",
      "m5 =\n",
      "\n",
      "     0     1     0     0\n",
      "     0     0     2     0\n",
      "     0     0     0     3\n",
      "     0     0     0     0\n",
      "\n"
     ]
    }
   ],
   "source": [
    "m5=diag([1,2,3],1)"
   ]
  },
  {
   "cell_type": "markdown",
   "id": "028d8dfb-efe3-4a3d-abe7-7594102b7fe2",
   "metadata": {},
   "source": [
    "EXERCICE 16"
   ]
  },
  {
   "cell_type": "code",
   "execution_count": 130,
   "id": "28f23c1e-fa38-4de4-ae1b-4c7d3e490028",
   "metadata": {
    "tags": []
   },
   "outputs": [
    {
     "name": "stdout",
     "output_type": "stream",
     "text": [
      "\n",
      "m6 =\n",
      "\n",
      "     0     0     0     0     0\n",
      "     0     0     0     0     0\n",
      "     0     0     0     0     0\n",
      "     0     0     0     0     0\n",
      "     0     0     0     0     0\n",
      "\n"
     ]
    }
   ],
   "source": [
    "m6=zeros(5)"
   ]
  },
  {
   "cell_type": "code",
   "execution_count": 131,
   "id": "9c92c055-92aa-4f97-9848-2542ada3ac44",
   "metadata": {
    "tags": []
   },
   "outputs": [
    {
     "name": "stdout",
     "output_type": "stream",
     "text": [
      "\n",
      "v6 =\n",
      "\n",
      "     0     0     0     0     0     0\n",
      "\n"
     ]
    }
   ],
   "source": [
    "v6=zeros(1,6)"
   ]
  },
  {
   "cell_type": "code",
   "execution_count": 132,
   "id": "9108417f-b310-4326-867f-9f7e2b2c54b8",
   "metadata": {
    "tags": []
   },
   "outputs": [
    {
     "name": "stdout",
     "output_type": "stream",
     "text": [
      "\n",
      "m61 =\n",
      "\n",
      "     0     0\n",
      "     0     0\n",
      "     0     0\n",
      "\n"
     ]
    }
   ],
   "source": [
    "m61=zeros(3,2)"
   ]
  },
  {
   "cell_type": "code",
   "execution_count": 133,
   "id": "a7cb9142-2d80-4575-b6b9-c1e3b6241f1b",
   "metadata": {
    "tags": []
   },
   "outputs": [
    {
     "name": "stdout",
     "output_type": "stream",
     "text": [
      "\n",
      "m7 =\n",
      "\n",
      "     1     1     1     1\n",
      "     1     1     1     1\n",
      "     1     1     1     1\n",
      "     1     1     1     1\n",
      "\n"
     ]
    }
   ],
   "source": [
    "m7=ones(4)"
   ]
  },
  {
   "cell_type": "code",
   "execution_count": 134,
   "id": "a8fb7151-4ba2-4817-a0f2-9f942442fe51",
   "metadata": {
    "tags": []
   },
   "outputs": [
    {
     "name": "stdout",
     "output_type": "stream",
     "text": [
      "\n",
      "v7 =\n",
      "\n",
      "     1\n",
      "     1\n",
      "     1\n",
      "     1\n",
      "\n"
     ]
    }
   ],
   "source": [
    "v7=ones(4,1)"
   ]
  },
  {
   "cell_type": "code",
   "execution_count": 135,
   "id": "0a2a295f-6442-4b00-9f31-6549fe44f2cc",
   "metadata": {
    "tags": []
   },
   "outputs": [
    {
     "name": "stdout",
     "output_type": "stream",
     "text": [
      "\n",
      "m71 =\n",
      "\n",
      "     1     1     1\n",
      "     1     1     1\n",
      "\n"
     ]
    }
   ],
   "source": [
    "m71=ones(2,3)"
   ]
  },
  {
   "cell_type": "code",
   "execution_count": 136,
   "id": "18b40203-f079-42a7-a2d0-d88001826bc0",
   "metadata": {
    "tags": []
   },
   "outputs": [
    {
     "name": "stdout",
     "output_type": "stream",
     "text": [
      "\n",
      "m8 =\n",
      "\n",
      "    0.8147    0.6324    0.9575    0.9572\n",
      "    0.9058    0.0975    0.9649    0.4854\n",
      "    0.1270    0.2785    0.1576    0.8003\n",
      "    0.9134    0.5469    0.9706    0.1419\n",
      "\n"
     ]
    }
   ],
   "source": [
    "m8=rand(4)"
   ]
  },
  {
   "cell_type": "code",
   "execution_count": 137,
   "id": "e13af566-f4c7-4373-a40f-65945754ec4f",
   "metadata": {
    "tags": []
   },
   "outputs": [
    {
     "name": "stdout",
     "output_type": "stream",
     "text": [
      "\n",
      "m9 =\n",
      "\n",
      "     1     0     0     0     0\n",
      "     0     1     0     0     0\n",
      "     0     0     1     0     0\n",
      "     0     0     0     1     0\n",
      "     0     0     0     0     1\n",
      "\n"
     ]
    }
   ],
   "source": [
    "m9=eye(5)"
   ]
  },
  {
   "cell_type": "markdown",
   "id": "cbbc15dd-d65f-4423-a8b7-eed976759741",
   "metadata": {},
   "source": [
    "EXERCICE 17"
   ]
  },
  {
   "cell_type": "code",
   "execution_count": 138,
   "id": "9d1c74be-e822-4a4a-a521-4b25f059be8e",
   "metadata": {
    "tags": []
   },
   "outputs": [
    {
     "name": "stdout",
     "output_type": "stream",
     "text": [
      "\n",
      "v1 =\n",
      "\n",
      "    3.4000    5.6000    7.8000\n",
      "\n"
     ]
    }
   ],
   "source": [
    "v1=[3.4,5.6,7.8]"
   ]
  },
  {
   "cell_type": "code",
   "execution_count": 139,
   "id": "9d4d394c-8898-4e19-85e8-0e9d9f6d0796",
   "metadata": {
    "tags": []
   },
   "outputs": [
    {
     "name": "stdout",
     "output_type": "stream",
     "text": [
      "\n",
      "v11 =\n",
      "\n",
      "    6.4000    9.6000   12.8000\n",
      "\n"
     ]
    }
   ],
   "source": [
    "v11=v1+[3:5]"
   ]
  },
  {
   "cell_type": "code",
   "execution_count": 140,
   "id": "39571a4a-9bf5-454c-bb3b-f133602d8ab5",
   "metadata": {
    "tags": []
   },
   "outputs": [
    {
     "name": "stdout",
     "output_type": "stream",
     "text": [
      "\n",
      "v12 =\n",
      "\n",
      "   20.1062   30.1593   40.2124\n",
      "\n"
     ]
    }
   ],
   "source": [
    "v12=pi*v11"
   ]
  },
  {
   "cell_type": "code",
   "execution_count": 142,
   "id": "b8497c62-2807-455d-acc3-32f39206fa33",
   "metadata": {
    "tags": []
   },
   "outputs": [
    {
     "name": "stderr",
     "output_type": "stream",
     "text": [
      "\u001b[0;31mError using *\n",
      "Incorrect dimensions for matrix multiplication. Check that the number of\n",
      "columns in the first matrix matches the number of rows in the second matrix. To\n",
      "operate on each element of the matrix individually, use TIMES (.*) for\n",
      "elementwise multiplication.\n",
      "\n",
      "\u001b[0m"
     ]
    }
   ],
   "source": [
    "v1*v1"
   ]
  },
  {
   "cell_type": "code",
   "execution_count": 143,
   "id": "228b0f61-2cea-40bf-bc3d-5fb97064f3c8",
   "metadata": {
    "tags": []
   },
   "outputs": [
    {
     "name": "stdout",
     "output_type": "stream",
     "text": [
      "\n",
      "ans =\n",
      "\n",
      "  103.7600\n",
      "\n"
     ]
    }
   ],
   "source": [
    "v1*v1'"
   ]
  },
  {
   "cell_type": "code",
   "execution_count": 144,
   "id": "325edcfc-8fd5-467d-bc38-aa6648bd1936",
   "metadata": {
    "tags": []
   },
   "outputs": [
    {
     "name": "stdout",
     "output_type": "stream",
     "text": [
      "\n",
      "ans =\n",
      "\n",
      "   11.5600   19.0400   26.5200\n",
      "   19.0400   31.3600   43.6800\n",
      "   26.5200   43.6800   60.8400\n",
      "\n"
     ]
    }
   ],
   "source": [
    "v1'*v1"
   ]
  },
  {
   "cell_type": "code",
   "execution_count": 145,
   "id": "584e91b9-42b5-4a0f-bc53-43ce3c54e2b0",
   "metadata": {
    "tags": []
   },
   "outputs": [
    {
     "name": "stdout",
     "output_type": "stream",
     "text": [
      "\n",
      "ans =\n",
      "\n",
      "    6.8000    9.0000   11.2000\n",
      "    9.0000   11.2000   13.4000\n",
      "   11.2000   13.4000   15.6000\n",
      "\n"
     ]
    }
   ],
   "source": [
    "v1+v1'"
   ]
  },
  {
   "cell_type": "code",
   "execution_count": 146,
   "id": "2f7f3693-7f5c-44e7-937c-1ef97ab4c023",
   "metadata": {
    "tags": []
   },
   "outputs": [
    {
     "name": "stdout",
     "output_type": "stream",
     "text": [
      "\n",
      "ans =\n",
      "\n",
      "   71.6000\n",
      "\n"
     ]
    }
   ],
   "source": [
    "dot(v1,[3,4,5])"
   ]
  },
  {
   "cell_type": "markdown",
   "id": "afd461d0-39b4-4095-ae0c-7c07d634e449",
   "metadata": {},
   "source": [
    "EXERCICE 18"
   ]
  },
  {
   "cell_type": "code",
   "execution_count": 147,
   "id": "83251e63-cd7a-4ebb-b4b5-969dbfd1c682",
   "metadata": {
    "tags": []
   },
   "outputs": [
    {
     "name": "stdout",
     "output_type": "stream",
     "text": [
      "\n",
      "A =\n",
      "\n",
      "    0.4218    0.9595    0.8491\n",
      "    0.9157    0.6557    0.9340\n",
      "    0.7922    0.0357    0.6787\n",
      "\n"
     ]
    }
   ],
   "source": [
    "A=rand(length(v1))"
   ]
  },
  {
   "cell_type": "code",
   "execution_count": 148,
   "id": "47939f09-6309-469b-aedc-e29291f34b62",
   "metadata": {
    "tags": []
   },
   "outputs": [
    {
     "name": "stderr",
     "output_type": "stream",
     "text": [
      "\u001b[0;31mError using *\n",
      "Incorrect dimensions for matrix multiplication. Check that the number of\n",
      "columns in the first matrix matches the number of rows in the second matrix. To\n",
      "operate on each element of the matrix individually, use TIMES (.*) for\n",
      "elementwise multiplication.\n",
      "\n",
      "\u001b[0m"
     ]
    }
   ],
   "source": [
    "y=A*v1"
   ]
  },
  {
   "cell_type": "code",
   "execution_count": 149,
   "id": "ebb69e11-1477-45d9-bd2e-2c31c8a2447c",
   "metadata": {
    "tags": []
   },
   "outputs": [
    {
     "name": "stdout",
     "output_type": "stream",
     "text": [
      "\n",
      "y =\n",
      "\n",
      "   13.4304\n",
      "   14.0708\n",
      "    8.1876\n",
      "\n"
     ]
    }
   ],
   "source": [
    "y=A*v1'"
   ]
  },
  {
   "cell_type": "code",
   "execution_count": 151,
   "id": "d7722124-2157-4cd7-919c-c41f7cbfce4c",
   "metadata": {
    "tags": []
   },
   "outputs": [
    {
     "name": "stderr",
     "output_type": "stream",
     "text": [
      "\u001b[0;31mError using *\n",
      "Incorrect dimensions for matrix multiplication. Check that the number of\n",
      "columns in the first matrix matches the number of rows in the second matrix. To\n",
      "operate on each element of the matrix individually, use TIMES (.*) for\n",
      "elementwise multiplication.\n",
      "\n",
      "\u001b[0m"
     ]
    }
   ],
   "source": [
    "y=rand(5)*v1'"
   ]
  },
  {
   "cell_type": "code",
   "execution_count": 152,
   "id": "dc0adfdd-3973-41d7-8a53-2e8a89eb08b8",
   "metadata": {
    "tags": []
   },
   "outputs": [
    {
     "name": "stdout",
     "output_type": "stream",
     "text": [
      "\n",
      "ans =\n",
      "\n",
      "    3.6712    6.3020    8.7929\n",
      "    3.5223    6.6187    8.7897\n",
      "    5.6829   10.1721   14.0037\n",
      "\n"
     ]
    }
   ],
   "source": [
    "m3*rand(size(m3))"
   ]
  },
  {
   "cell_type": "markdown",
   "id": "c3182cf4-3287-4847-b2c7-b5e614818648",
   "metadata": {},
   "source": [
    "EXERCICE 19"
   ]
  },
  {
   "cell_type": "code",
   "execution_count": 153,
   "id": "9d44fbb6-e651-4908-a13e-559022f54da9",
   "metadata": {
    "tags": []
   },
   "outputs": [
    {
     "name": "stdout",
     "output_type": "stream",
     "text": [
      "\n",
      "v1 =\n",
      "\n",
      "    3.4000    5.6000    7.8000\n",
      "\n"
     ]
    }
   ],
   "source": [
    "v1"
   ]
  },
  {
   "cell_type": "code",
   "execution_count": 154,
   "id": "c1181f02-2452-4a77-b5ad-f3d9d19a82c4",
   "metadata": {
    "tags": []
   },
   "outputs": [
    {
     "name": "stdout",
     "output_type": "stream",
     "text": [
      "\n",
      "v1e =\n",
      "\n",
      "    3.4000   11.2000   23.4000\n",
      "\n"
     ]
    }
   ],
   "source": [
    "v1e=v1.*[1:3]"
   ]
  },
  {
   "cell_type": "code",
   "execution_count": 155,
   "id": "3da344b2-d386-45bd-a52e-6a7cdee872e9",
   "metadata": {
    "tags": []
   },
   "outputs": [
    {
     "name": "stdout",
     "output_type": "stream",
     "text": [
      "\n",
      "v11e =\n",
      "\n",
      "     1     2     3\n",
      "\n"
     ]
    }
   ],
   "source": [
    "v11e=v1e./v1"
   ]
  },
  {
   "cell_type": "code",
   "execution_count": 156,
   "id": "345d539c-1f12-42c8-a16d-6301414e2fbf",
   "metadata": {
    "tags": []
   },
   "outputs": [
    {
     "name": "stdout",
     "output_type": "stream",
     "text": [
      "\n",
      "v12e =\n",
      "\n",
      "   21.3156   74.2113  169.9169\n",
      "\n"
     ]
    }
   ],
   "source": [
    "v12e=v1.^2.5"
   ]
  },
  {
   "cell_type": "code",
   "execution_count": 157,
   "id": "fb513f2f-dccd-431e-bbc8-c740803670dc",
   "metadata": {
    "tags": []
   },
   "outputs": [
    {
     "name": "stdout",
     "output_type": "stream",
     "text": [
      "\n",
      "m11 =\n",
      "\n",
      "     2     2     2\n",
      "     2     2     2\n",
      "     2     2     2\n",
      "\n"
     ]
    }
   ],
   "source": [
    "m11=2*ones(3)"
   ]
  },
  {
   "cell_type": "code",
   "execution_count": 158,
   "id": "927b061e-ed1a-43b7-9d58-f1784b5d90c2",
   "metadata": {
    "tags": []
   },
   "outputs": [
    {
     "name": "stdout",
     "output_type": "stream",
     "text": [
      "\n",
      "ans =\n",
      "\n",
      "    1.2599    1.2599    1.2599\n",
      "    1.2599    1.2599    1.2599\n",
      "    1.2599    1.2599    1.2599\n",
      "\n"
     ]
    }
   ],
   "source": [
    "m11.^(1/3)"
   ]
  },
  {
   "cell_type": "code",
   "execution_count": 159,
   "id": "d72f1579-ada5-4a4f-a6eb-554e9776fd21",
   "metadata": {
    "tags": []
   },
   "outputs": [
    {
     "name": "stdout",
     "output_type": "stream",
     "text": [
      "\n",
      "ans =\n",
      "\n",
      "   22.6274    8.0000   64.0000\n",
      "  137.1870   16.0000    2.0000\n",
      "   32.0000  256.0000  675.5881\n",
      "\n"
     ]
    }
   ],
   "source": [
    "m11.^m3"
   ]
  },
  {
   "cell_type": "code",
   "execution_count": 160,
   "id": "cd6b9d33-bebe-492f-a747-2e9effefa173",
   "metadata": {
    "tags": []
   },
   "outputs": [
    {
     "name": "stdout",
     "output_type": "stream",
     "text": [
      "\n",
      "ans =\n",
      "\n",
      "    0.4444    0.6667    0.3333\n",
      "    0.2817    0.5000    2.0000\n",
      "    0.4000    0.2500    0.2128\n",
      "\n"
     ]
    }
   ],
   "source": [
    "m11./m3"
   ]
  },
  {
   "cell_type": "code",
   "execution_count": 161,
   "id": "81b0f7f0-221b-4240-831a-861c4476fb3f",
   "metadata": {
    "tags": []
   },
   "outputs": [
    {
     "name": "stdout",
     "output_type": "stream",
     "text": [
      "\n",
      "ans =\n",
      "\n",
      "    9.0000    6.0000   12.0000\n",
      "   14.2000    8.0000    2.0000\n",
      "   10.0000   16.0000   18.8000\n",
      "\n"
     ]
    }
   ],
   "source": [
    "m11.*m3"
   ]
  },
  {
   "cell_type": "code",
   "execution_count": 162,
   "id": "da03d158-e5ac-4ade-b235-751676a8b8df",
   "metadata": {
    "tags": []
   },
   "outputs": [
    {
     "name": "stdout",
     "output_type": "stream",
     "text": [
      "\n",
      "ans =\n",
      "\n",
      "    1.0000    0.0000   -0.0000\n",
      "   -0.3090   -0.0000    0.0000\n",
      "    0.0000   -0.0000   -0.9511\n",
      "\n"
     ]
    }
   ],
   "source": [
    "sin(pi*m3)"
   ]
  },
  {
   "cell_type": "code",
   "execution_count": 163,
   "id": "e69ee6e6-e5b8-4102-a5f4-9288139a2b58",
   "metadata": {
    "tags": []
   },
   "outputs": [
    {
     "name": "stdout",
     "output_type": "stream",
     "text": [
      "\n",
      "ans =\n",
      "\n",
      "    9.0000    0.0000   -0.0000\n",
      "   -4.3880   -0.0000    0.0000\n",
      "    0.0000   -0.0000  -17.8799\n",
      "\n"
     ]
    }
   ],
   "source": [
    "m11.*m3.*sin(pi*m3)"
   ]
  },
  {
   "cell_type": "markdown",
   "id": "95e9c69d-3d6b-431f-887d-71c6bf0eb066",
   "metadata": {},
   "source": [
    "EXERCICE 20"
   ]
  },
  {
   "cell_type": "code",
   "execution_count": 164,
   "id": "ab914026-6432-4a09-b771-f8321de0f163",
   "metadata": {
    "tags": []
   },
   "outputs": [
    {
     "name": "stdout",
     "output_type": "stream",
     "text": [
      " NORM   Vector and matrix norms.\n",
      "    N = NORM(V) returns the 2-norm or Euclidean norm of the vector V and is\n",
      "    the same as NORM(V,2).\n",
      " \n",
      "    N = NORM(V,p) returns the generalized vector p-norm.\n",
      "    * If p is a positive real scalar, the p-norm is defined as\n",
      "      SUM(ABS(V).^p)^(1/p).\n",
      "    * If p = Inf, then N is the largest element of ABS(V).\n",
      "    * If p = -Inf, then N is the smallest element of ABS(V).\n",
      " \n",
      "    N = NORM(M) returns the 2-norm of the matrix M, which is same as\n",
      "    NORM(M,2), and is defined by the largest singular value.\n",
      " \n",
      "    N = NORM(M,p) returns the p-norm of the matrix M, where p is 1, 2, or\n",
      "    Inf.\n",
      "    * If p = 1, then N is the maximum absolute column sum in M.\n",
      "    * If p = 2, then N is the maximum singular value of M.\n",
      "    * If p = Inf, then N is the maximum absolute row sum of M.\n",
      " \n",
      "    N = NORM(X,\"fro\") returns the Frobenius norm of any numeric array X.\n",
      "    Notice that the Frobenius norm for vectors is equivalent to the 2-norm.\n",
      "    For N-D arrays, only the Frobenius norm is supported via NORM.\n",
      " \n",
      "    By convention, NaN is returned if the first input contains NaNs.\n",
      " \n",
      "    See also vecnorm, pagenorm, normest, normalize, cond, hypot.\n",
      "\n",
      "    Documentation for norm\n",
      "       doc norm\n",
      "\n",
      "    Other uses of norm\n",
      "\n",
      "       DynamicSystem/norm    matlab/norm    sym/norm    tall/norm\n",
      "       lti/norm\n",
      "\n"
     ]
    }
   ],
   "source": [
    "help norm"
   ]
  },
  {
   "cell_type": "code",
   "execution_count": 165,
   "id": "827e7244-05e7-4577-9a64-14acf91d980b",
   "metadata": {
    "tags": []
   },
   "outputs": [
    {
     "name": "stdout",
     "output_type": "stream",
     "text": [
      "\n",
      "v1 =\n",
      "\n",
      "    3.4000    5.6000    7.8000\n",
      "\n"
     ]
    }
   ],
   "source": [
    "v1"
   ]
  },
  {
   "cell_type": "code",
   "execution_count": 166,
   "id": "25f99adc-7d97-4757-8910-71be301d88d3",
   "metadata": {
    "tags": []
   },
   "outputs": [
    {
     "name": "stdout",
     "output_type": "stream",
     "text": [
      "\n",
      "ans =\n",
      "\n",
      "   10.1863\n",
      "\n"
     ]
    }
   ],
   "source": [
    "norm(v1)"
   ]
  },
  {
   "cell_type": "code",
   "execution_count": 167,
   "id": "b82db51c-ea4f-4af6-b415-f86e93b37166",
   "metadata": {
    "tags": []
   },
   "outputs": [
    {
     "name": "stdout",
     "output_type": "stream",
     "text": [
      "\n",
      "m3 =\n",
      "\n",
      "    4.5000    3.0000    6.0000\n",
      "    7.1000    4.0000    1.0000\n",
      "    5.0000    8.0000    9.4000\n",
      "\n"
     ]
    }
   ],
   "source": [
    "m3"
   ]
  },
  {
   "cell_type": "code",
   "execution_count": 168,
   "id": "4dc5ae75-f422-4398-9745-e23b7daf371a",
   "metadata": {
    "tags": []
   },
   "outputs": [
    {
     "name": "stdout",
     "output_type": "stream",
     "text": [
      "\n",
      "ans =\n",
      "\n",
      "   16.6823\n",
      "\n"
     ]
    }
   ],
   "source": [
    "norm(m3)"
   ]
  },
  {
   "cell_type": "code",
   "execution_count": 169,
   "id": "44c63466-a7dc-4742-92a1-609f98518872",
   "metadata": {
    "tags": []
   },
   "outputs": [
    {
     "name": "stdout",
     "output_type": "stream",
     "text": [
      "\n",
      "ans =\n",
      "\n",
      "     3\n",
      "\n"
     ]
    }
   ],
   "source": [
    "rank(m3)"
   ]
  },
  {
   "cell_type": "code",
   "execution_count": 170,
   "id": "f1d3a544-5eaf-4cb7-8bed-c92cc30fe2b0",
   "metadata": {
    "tags": []
   },
   "outputs": [
    {
     "name": "stdout",
     "output_type": "stream",
     "text": [
      "\n",
      "ans =\n",
      "\n",
      "   17.9000\n",
      "\n"
     ]
    }
   ],
   "source": [
    "trace(m3)"
   ]
  },
  {
   "cell_type": "code",
   "execution_count": 171,
   "id": "cc8b14c3-52df-49eb-a1f7-051a8b1b8032",
   "metadata": {
    "tags": []
   },
   "outputs": [
    {
     "name": "stdout",
     "output_type": "stream",
     "text": [
      "\n",
      "ans =\n",
      "\n",
      "  168.7800\n",
      "\n"
     ]
    }
   ],
   "source": [
    "det(m3)"
   ]
  },
  {
   "cell_type": "code",
   "execution_count": 172,
   "id": "4ee2fa0d-18e4-4aef-b40d-362b414e166b",
   "metadata": {
    "tags": []
   },
   "outputs": [
    {
     "name": "stdout",
     "output_type": "stream",
     "text": [
      "\n",
      "ans =\n",
      "\n",
      "  16.1575 + 0.0000i\n",
      "   0.8712 + 3.1124i\n",
      "   0.8712 - 3.1124i\n",
      "\n"
     ]
    }
   ],
   "source": [
    "eig(m3)"
   ]
  },
  {
   "cell_type": "code",
   "execution_count": 173,
   "id": "e7ae5e7f-5fbd-484d-a7da-68cc3aa97da4",
   "metadata": {
    "tags": []
   },
   "outputs": [
    {
     "name": "stdout",
     "output_type": "stream",
     "text": [
      "\n",
      "ans =\n",
      "\n",
      "    0.1754    0.1173   -0.1244\n",
      "   -0.3658    0.0729    0.2257\n",
      "    0.2180   -0.1244   -0.0196\n",
      "\n"
     ]
    }
   ],
   "source": [
    "inv(m3)"
   ]
  },
  {
   "cell_type": "code",
   "execution_count": 174,
   "id": "4aa9c4e6-abe8-49c6-a17f-5d93fc25bb81",
   "metadata": {
    "tags": []
   },
   "outputs": [
    {
     "name": "stdout",
     "output_type": "stream",
     "text": [
      "\n",
      "ans =\n",
      "\n",
      "    8.7366\n",
      "\n"
     ]
    }
   ],
   "source": [
    "cond(m3)"
   ]
  },
  {
   "cell_type": "markdown",
   "id": "35429a06-87ef-4c13-bf4d-d96538c9cec6",
   "metadata": {},
   "source": [
    "EXERCICE 21"
   ]
  },
  {
   "cell_type": "code",
   "execution_count": 175,
   "id": "d5a168d1-bc77-426a-95bf-673b10e9af51",
   "metadata": {
    "tags": []
   },
   "outputs": [
    {
     "name": "stdout",
     "output_type": "stream",
     "text": [
      "\n",
      "f =\n",
      "\n",
      "     1\n",
      "     2\n",
      "     3\n",
      "\n"
     ]
    }
   ],
   "source": [
    "f=[1;2;3]"
   ]
  },
  {
   "cell_type": "code",
   "execution_count": 176,
   "id": "82db1958-f3c7-4792-8bff-5b1cb471d3c4",
   "metadata": {
    "tags": []
   },
   "outputs": [
    {
     "name": "stdout",
     "output_type": "stream",
     "text": [
      "\n",
      "x1 =\n",
      "\n",
      "    0.0367\n",
      "    0.4572\n",
      "   -0.0895\n",
      "\n"
     ]
    }
   ],
   "source": [
    "x1=m3\\f"
   ]
  },
  {
   "cell_type": "code",
   "execution_count": 177,
   "id": "c2110505-b595-4a69-adf9-0aced47fb062",
   "metadata": {
    "tags": []
   },
   "outputs": [
    {
     "name": "stdout",
     "output_type": "stream",
     "text": [
      "\n",
      "x2 =\n",
      "\n",
      "    0.0367\n",
      "    0.4572\n",
      "   -0.0895\n",
      "\n"
     ]
    }
   ],
   "source": [
    "x2=inv(m3)*f"
   ]
  },
  {
   "cell_type": "code",
   "execution_count": 178,
   "id": "b9e1fb32-5ca1-43f7-a887-3eecfc75e246",
   "metadata": {
    "tags": []
   },
   "outputs": [
    {
     "name": "stdout",
     "output_type": "stream",
     "text": [
      "\n",
      "g =\n",
      "\n",
      "     1     2     3\n",
      "\n"
     ]
    }
   ],
   "source": [
    "g=[1,2,3]"
   ]
  },
  {
   "cell_type": "code",
   "execution_count": 179,
   "id": "71a2c0fd-dc65-4d72-9d4c-cd2259c16afb",
   "metadata": {
    "tags": []
   },
   "outputs": [
    {
     "name": "stdout",
     "output_type": "stream",
     "text": [
      "\n",
      "ans =\n",
      "\n",
      "  1x3 logical array\n",
      "\n",
      "   1   1   1\n",
      "\n"
     ]
    }
   ],
   "source": [
    "g==f'"
   ]
  },
  {
   "cell_type": "code",
   "execution_count": 182,
   "id": "5cb2bdc5-40e3-4f18-b425-8ee23daeab1c",
   "metadata": {
    "tags": []
   },
   "outputs": [
    {
     "name": "stderr",
     "output_type": "stream",
     "text": [
      "\u001b[0;31mError using *\n",
      "Incorrect dimensions for matrix multiplication. Check that the number of\n",
      "columns in the first matrix matches the number of rows in the second matrix. To\n",
      "operate on each element of the matrix individually, use TIMES (.*) for\n",
      "elementwise multiplication.\n",
      "\n",
      "\u001b[0m"
     ]
    }
   ],
   "source": [
    "inv(m3)*g"
   ]
  },
  {
   "cell_type": "markdown",
   "id": "9f1f0312-750c-410a-8a7f-2213df9a3af5",
   "metadata": {},
   "source": [
    "EXERCICE 22"
   ]
  },
  {
   "cell_type": "code",
   "execution_count": 183,
   "id": "b017e6a1-0806-4639-8a12-84e05d47a78c",
   "metadata": {
    "tags": []
   },
   "outputs": [
    {
     "name": "stdout",
     "output_type": "stream",
     "text": [
      "\n",
      "v3 =\n",
      "\n",
      "  Columns 1 through 7\n",
      "\n",
      "    1.0000    1.2500    1.5000    1.7500    2.0000    2.2500    2.5000\n",
      "\n",
      "  Columns 8 through 14\n",
      "\n",
      "    2.7500    3.0000    3.2500    3.5000    3.7500    4.0000    4.2500\n",
      "\n",
      "  Columns 15 through 17\n",
      "\n",
      "    4.5000    4.7500    5.0000\n",
      "\n"
     ]
    }
   ],
   "source": [
    "v3=[1:0.25:5]"
   ]
  },
  {
   "cell_type": "code",
   "execution_count": 184,
   "id": "cb254519-72fd-4bdf-a88e-67202b0efd35",
   "metadata": {
    "tags": []
   },
   "outputs": [
    {
     "name": "stdout",
     "output_type": "stream",
     "text": [
      "\n",
      "ans =\n",
      "\n",
      "    51\n",
      "\n"
     ]
    }
   ],
   "source": [
    "sum(v3)"
   ]
  },
  {
   "cell_type": "code",
   "execution_count": 185,
   "id": "032f9b2a-37f8-450e-b0b9-03e090cca358",
   "metadata": {
    "tags": []
   },
   "outputs": [
    {
     "name": "stdout",
     "output_type": "stream",
     "text": [
      "\n",
      "v1 =\n",
      "\n",
      "    3.4000    5.6000    7.8000\n",
      "\n"
     ]
    }
   ],
   "source": [
    "v1"
   ]
  },
  {
   "cell_type": "code",
   "execution_count": 186,
   "id": "1cb75c3f-4ef3-4741-b120-969f89df5b99",
   "metadata": {
    "tags": []
   },
   "outputs": [
    {
     "name": "stdout",
     "output_type": "stream",
     "text": [
      "\n",
      "ans =\n",
      "\n",
      "   16.8000\n",
      "\n"
     ]
    }
   ],
   "source": [
    "sum(v1)"
   ]
  },
  {
   "cell_type": "code",
   "execution_count": 187,
   "id": "af2ed3e5-f47f-4a62-becc-c500c32bfda4",
   "metadata": {
    "tags": []
   },
   "outputs": [
    {
     "name": "stdout",
     "output_type": "stream",
     "text": [
      "\n",
      "ans =\n",
      "\n",
      "  148.5120\n",
      "\n"
     ]
    }
   ],
   "source": [
    "prod(v1)"
   ]
  },
  {
   "cell_type": "code",
   "execution_count": 188,
   "id": "ee08537e-31c3-4809-8a7e-0c5920f22460",
   "metadata": {
    "tags": []
   },
   "outputs": [
    {
     "name": "stdout",
     "output_type": "stream",
     "text": [
      "\n",
      "ans =\n",
      "\n",
      "   2.3602e+07\n",
      "\n"
     ]
    }
   ],
   "source": [
    "prod(v3)"
   ]
  },
  {
   "cell_type": "code",
   "execution_count": 189,
   "id": "c16a78f2-620f-47d9-a925-135bc26e1eb5",
   "metadata": {
    "tags": []
   },
   "outputs": [
    {
     "name": "stdout",
     "output_type": "stream",
     "text": [
      "\n",
      "ans =\n",
      "\n",
      "   16.6000   15.0000   16.4000\n",
      "\n"
     ]
    }
   ],
   "source": [
    "sum(m3)"
   ]
  },
  {
   "cell_type": "code",
   "execution_count": 190,
   "id": "e949388f-c8b9-4b33-96c3-1b2c97f03d96",
   "metadata": {
    "tags": []
   },
   "outputs": [
    {
     "name": "stdout",
     "output_type": "stream",
     "text": [
      "\n",
      "m3 =\n",
      "\n",
      "    4.5000    3.0000    6.0000\n",
      "    7.1000    4.0000    1.0000\n",
      "    5.0000    8.0000    9.4000\n",
      "\n"
     ]
    }
   ],
   "source": [
    "m3"
   ]
  },
  {
   "cell_type": "code",
   "execution_count": 191,
   "id": "f53be4f8-cb6e-44f6-9835-f5e5ceeeb00a",
   "metadata": {
    "tags": []
   },
   "outputs": [
    {
     "name": "stdout",
     "output_type": "stream",
     "text": [
      "\n",
      "ans =\n",
      "\n",
      "  159.7500   96.0000   56.4000\n",
      "\n"
     ]
    }
   ],
   "source": [
    "prod(m3)"
   ]
  },
  {
   "cell_type": "markdown",
   "id": "3cf1ada1-3019-4f90-858d-fae817fd3fd5",
   "metadata": {},
   "source": [
    "EXERCICE 23"
   ]
  },
  {
   "cell_type": "code",
   "execution_count": 193,
   "id": "90aed9e1-16fe-41bc-a1fa-0500a9d519a1",
   "metadata": {
    "tags": []
   },
   "outputs": [
    {
     "name": "stdout",
     "output_type": "stream",
     "text": [
      "\n",
      "v3 =\n",
      "\n",
      "  Columns 1 through 7\n",
      "\n",
      "    1.0000    1.2500    1.5000    1.7500    2.0000    2.2500    2.5000\n",
      "\n",
      "  Columns 8 through 14\n",
      "\n",
      "    2.7500    3.0000    3.2500    3.5000    3.7500    4.0000    4.2500\n",
      "\n",
      "  Columns 15 through 17\n",
      "\n",
      "    4.5000    4.7500    5.0000\n",
      "\n"
     ]
    }
   ],
   "source": [
    "v3"
   ]
  },
  {
   "cell_type": "code",
   "execution_count": 192,
   "id": "c55643bc-8188-4a89-bc68-c3a11b1613a1",
   "metadata": {
    "tags": []
   },
   "outputs": [
    {
     "name": "stdout",
     "output_type": "stream",
     "text": [
      "\n",
      "i0 =\n",
      "\n",
      "     8\n",
      "\n"
     ]
    }
   ],
   "source": [
    "i0=find(v3==2.75)"
   ]
  },
  {
   "cell_type": "code",
   "execution_count": 194,
   "id": "496b3a35-3d30-4240-a396-fc8315b69f97",
   "metadata": {
    "tags": []
   },
   "outputs": [
    {
     "name": "stdout",
     "output_type": "stream",
     "text": [
      "\n",
      "ans =\n",
      "\n",
      "    2.7500\n",
      "\n"
     ]
    }
   ],
   "source": [
    "v3(i0)"
   ]
  },
  {
   "cell_type": "code",
   "execution_count": 195,
   "id": "d841c4b8-b8ba-4938-88ee-2ad7333dc9e8",
   "metadata": {
    "tags": []
   },
   "outputs": [
    {
     "name": "stdout",
     "output_type": "stream",
     "text": [
      "\n",
      "i1 =\n",
      "\n",
      "     1     2     3     4     5\n",
      "\n"
     ]
    }
   ],
   "source": [
    "i1=find(v3<=2)"
   ]
  },
  {
   "cell_type": "code",
   "execution_count": 196,
   "id": "2069fb38-d815-4741-91dc-f1667d30be59",
   "metadata": {
    "tags": []
   },
   "outputs": [
    {
     "name": "stdout",
     "output_type": "stream",
     "text": [
      "\n",
      "ans =\n",
      "\n",
      "    1.0000    1.2500    1.5000    1.7500    2.0000\n",
      "\n"
     ]
    }
   ],
   "source": [
    "v3(i1)"
   ]
  },
  {
   "cell_type": "code",
   "execution_count": 197,
   "id": "9db56515-d7c9-4eb5-8115-048c6daaf66d",
   "metadata": {
    "tags": []
   },
   "outputs": [
    {
     "name": "stdout",
     "output_type": "stream",
     "text": [
      "\n",
      "vv3 =\n",
      "\n",
      "  Columns 1 through 7\n",
      "\n",
      "    0.0000   -0.7071   -1.0000   -0.7071   -0.0000    0.7071    1.0000\n",
      "\n",
      "  Columns 8 through 14\n",
      "\n",
      "    0.7071    0.0000   -0.7071   -1.0000   -0.7071   -0.0000    0.7071\n",
      "\n",
      "  Columns 15 through 17\n",
      "\n",
      "    1.0000    0.7071    0.0000\n",
      "\n"
     ]
    }
   ],
   "source": [
    "vv3=sin(pi*v3)"
   ]
  },
  {
   "cell_type": "code",
   "execution_count": 198,
   "id": "ec3f4470-76c5-49b2-a7d2-9f8579bf2f11",
   "metadata": {
    "tags": []
   },
   "outputs": [
    {
     "name": "stdout",
     "output_type": "stream",
     "text": [
      "\n",
      "i2 =\n",
      "\n",
      "     7     8    14    15    16\n",
      "\n"
     ]
    }
   ],
   "source": [
    "i2=find(vv3>=sqrt(2)/2)"
   ]
  },
  {
   "cell_type": "code",
   "execution_count": 199,
   "id": "ccef28db-f10f-4234-8aa1-d7ae33f74b18",
   "metadata": {
    "tags": []
   },
   "outputs": [
    {
     "name": "stdout",
     "output_type": "stream",
     "text": [
      "\n",
      "ans =\n",
      "\n",
      "    1.0000    0.7071    0.7071    1.0000    0.7071\n",
      "\n"
     ]
    }
   ],
   "source": [
    "vv3(i2)"
   ]
  },
  {
   "cell_type": "code",
   "execution_count": null,
   "id": "686992d1-51f7-4ab2-aa95-6e47ed7c8818",
   "metadata": {},
   "outputs": [],
   "source": []
  }
 ],
 "metadata": {
  "kernelspec": {
   "display_name": "Matlab",
   "language": "matlab",
   "name": "matlab"
  },
  "language_info": {
   "codemirror_mode": "octave",
   "file_extension": ".m",
   "help_links": [
    {
     "text": "MetaKernel Magics",
     "url": "https://metakernel.readthedocs.io/en/latest/source/README.html"
    }
   ],
   "mimetype": "text/x-octave",
   "name": "matlab",
   "version": "0.17.1"
  }
 },
 "nbformat": 4,
 "nbformat_minor": 5
}
